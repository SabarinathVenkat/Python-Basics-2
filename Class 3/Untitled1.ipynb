{
 "cells": [
  {
   "cell_type": "code",
   "execution_count": 25,
   "metadata": {},
   "outputs": [
    {
     "name": "stdout",
     "output_type": "stream",
     "text": [
      "0\n",
      "Only executes in case there are no exceptions\n",
      "Oh.. Finally\n",
      "This is not going to print\n"
     ]
    }
   ],
   "source": [
    "def func():\n",
    "    return 1/0\n",
    "try:\n",
    "    print 1/20398402983092840923840328409\n",
    "\n",
    "except ArithmeticError:\n",
    "    print \"This is crazy!!\"\n",
    "except TypeError:\n",
    "    print \"Cannot do this\"\n",
    "except:\n",
    "    try:\n",
    "        print \"Anything goes here\"\n",
    "    except:\n",
    "        pass\n",
    "else:\n",
    "    print \"Only executes in case there are no exceptions\"\n",
    "finally:\n",
    "    print \"Oh.. Finally\"\n",
    "\n",
    "print \"This is not going to print\""
   ]
  }
 ],
 "metadata": {
  "kernelspec": {
   "display_name": "Python 2",
   "language": "python",
   "name": "python2"
  },
  "language_info": {
   "codemirror_mode": {
    "name": "ipython",
    "version": 2
   },
   "file_extension": ".py",
   "mimetype": "text/x-python",
   "name": "python",
   "nbconvert_exporter": "python",
   "pygments_lexer": "ipython2",
   "version": "2.7.11"
  }
 },
 "nbformat": 4,
 "nbformat_minor": 2
}
