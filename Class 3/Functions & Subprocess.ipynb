{
 "cells": [
  {
   "cell_type": "code",
   "execution_count": 18,
   "metadata": {
    "collapsed": false
   },
   "outputs": [
    {
     "name": "stdout",
     "output_type": "stream",
     "text": [
      "Hello 67!!\n",
      "10\n"
     ]
    }
   ],
   "source": [
    "# A simple function\n",
    "\n",
    "def my_first_function(name):\n",
    "    print \"Hello \"+str(name)+\"!!\"\n",
    "    return 10\n",
    "\n",
    "a = my_first_function(67)\n",
    "print a"
   ]
  },
  {
   "cell_type": "code",
   "execution_count": 19,
   "metadata": {
    "collapsed": false
   },
   "outputs": [
    {
     "name": "stdout",
     "output_type": "stream",
     "text": [
      "Hello Ganesh!!\n",
      "{_$�EV�ٗ wI�ro��e(��j-$9�R�\n"
     ]
    }
   ],
   "source": [
    "import hashlib \n",
    "\n",
    "def get_hash(name):\n",
    "    my_first_function(name) # Note that you could call another function inside a function\n",
    "    return hashlib.sha224(name).digest()\n",
    "\n",
    "a = get_hash('Ganesh')\n",
    "print a"
   ]
  },
  {
   "cell_type": "markdown",
   "metadata": {},
   "source": [
    "###### Parameters are a tricky thing"
   ]
  },
  {
   "cell_type": "code",
   "execution_count": 21,
   "metadata": {
    "collapsed": false
   },
   "outputs": [
    {
     "name": "stdout",
     "output_type": "stream",
     "text": [
      "While safe [1, 2, 3]\n",
      "While referencing the same object [1, 2, 3, 20]\n"
     ]
    }
   ],
   "source": [
    "\n",
    "def manipulate(a_list, b = 10):\n",
    "    a_list.append(b)\n",
    "    return a\n",
    "\n",
    "def safe_func(a_list,b=10):\n",
    "    a_list = a_list + [b]\n",
    "    return a_list\n",
    "\n",
    "z = [1,2,3]\n",
    "\n",
    "safe_func(z)\n",
    "print 'While safe', z\n",
    "\n",
    "manipulate(z,20)\n",
    "print 'While referencing the same object',z"
   ]
  },
  {
   "cell_type": "code",
   "execution_count": 23,
   "metadata": {
    "collapsed": false
   },
   "outputs": [
    {
     "name": "stdout",
     "output_type": "stream",
     "text": [
      "['Edureka', 'newValue']\n",
      "['Python']\n"
     ]
    }
   ],
   "source": [
    "def add(list1,list2):\n",
    "    func_var = 10\n",
    "    list1.append('newValue')\n",
    "    list2 = list1\n",
    "\n",
    "list1 = ['Edureka']\n",
    "list2 = ['Python']\n",
    "\n",
    "add(list1,list2)\n",
    "\n",
    "print list1\n",
    "print list2"
   ]
  },
  {
   "cell_type": "code",
   "execution_count": 24,
   "metadata": {},
   "outputs": [
    {
     "ename": "NameError",
     "evalue": "name 'func_var' is not defined",
     "output_type": "error",
     "traceback": [
      "\u001b[1;31m---------------------------------------------------------------------------\u001b[0m",
      "\u001b[1;31mNameError\u001b[0m                                 Traceback (most recent call last)",
      "\u001b[1;32m<ipython-input-24-f33070bb2f8f>\u001b[0m in \u001b[0;36m<module>\u001b[1;34m()\u001b[0m\n\u001b[1;32m----> 1\u001b[1;33m \u001b[1;32mprint\u001b[0m \u001b[0mfunc_var\u001b[0m\u001b[1;33m\u001b[0m\u001b[0m\n\u001b[0m",
      "\u001b[1;31mNameError\u001b[0m: name 'func_var' is not defined"
     ]
    }
   ],
   "source": [
    "print func_var"
   ]
  },
  {
   "cell_type": "code",
   "execution_count": 30,
   "metadata": {
    "collapsed": false
   },
   "outputs": [
    {
     "name": "stdout",
     "output_type": "stream",
     "text": [
      "None\n",
      "15 56 1000 100 __main__\n",
      "15\n"
     ]
    }
   ],
   "source": [
    "# Learn about LEGB\n",
    "\n",
    "# Local, Enclosed, Global, Builtin\n",
    "\n",
    "#a = 10\n",
    "z = 100\n",
    "def outer_function(param1):\n",
    "    #print a   # Show how a function is interpreted, Gotcha moment!!!\n",
    "    global list1\n",
    "    print list1.append(10)\n",
    "    #a = 15\n",
    "    b = 20\n",
    "    def inner_function():\n",
    "        global a\n",
    "        b = 56\n",
    "        #a = 100\n",
    "        print a,b,param1, z, __name__\n",
    "    inner_function()\n",
    "    \n",
    "outer_function(1000)\n",
    "print a"
   ]
  },
  {
   "cell_type": "code",
   "execution_count": 31,
   "metadata": {},
   "outputs": [
    {
     "name": "stdout",
     "output_type": "stream",
     "text": [
      "['Edureka', 'newValue', 10]\n"
     ]
    }
   ],
   "source": [
    "print list1"
   ]
  },
  {
   "cell_type": "code",
   "execution_count": 38,
   "metadata": {
    "collapsed": false
   },
   "outputs": [
    {
     "name": "stdout",
     "output_type": "stream",
     "text": [
      "10 20 30\n",
      "10 20 30\n",
      "10 20 30\n",
      "20 30 34\n"
     ]
    }
   ],
   "source": [
    "## Named arguments\n",
    "\n",
    "def jumbled(a,b=30,c=34):\n",
    "    print a, b, c\n",
    "\n",
    "a,b,c = 10,20,30\n",
    "\n",
    "jumbled(10,20,30)\n",
    "jumbled(10,c=30,b=20)\n",
    "jumbled(c=30,a=10,b=20)\n",
    "jumbled(a=20)\n",
    "\n",
    "#jumbled(c=30,10,a=20)  ##"
   ]
  },
  {
   "cell_type": "code",
   "execution_count": null,
   "metadata": {
    "collapsed": false
   },
   "outputs": [],
   "source": [
    "print \"hello\""
   ]
  },
  {
   "cell_type": "code",
   "execution_count": 40,
   "metadata": {
    "collapsed": false
   },
   "outputs": [
    {
     "name": "stdout",
     "output_type": "stream",
     "text": [
      "<type 'tuple'>\n",
      "Python Anaconda IronPython Hello\n"
     ]
    }
   ],
   "source": [
    "## Arbitary args and keyargs\n",
    "\n",
    "# What if you dont know how many args you are going to get?\n",
    "\n",
    "def concat(*args):\n",
    "    print type(args)\n",
    "    return \" \".join(args)\n",
    "    \n",
    "print concat('Python','Anaconda', \"IronPython\",\"Hello\")"
   ]
  },
  {
   "cell_type": "code",
   "execution_count": 44,
   "metadata": {
    "collapsed": false
   },
   "outputs": [
    {
     "name": "stdout",
     "output_type": "stream",
     "text": [
      "<type 'dict'>\n",
      "John Doe\n",
      "(12, 13)\n",
      "ganesh : Ganesh Prasath\n",
      "manager : Gupta\n",
      "player1 : John Doe\n"
     ]
    }
   ],
   "source": [
    "# What if you want named arguments, but dont know how many of them?\n",
    "\n",
    "def print_team(*args, **kargs):\n",
    "    #print \"***************\"+teamname+'*****************'\n",
    "    print type(kargs)\n",
    "    print kargs['player1']\n",
    "    print args\n",
    "    for k,v in kargs.items():\n",
    "        print k + \" : \" + v\n",
    "\n",
    "print_team(12, 13, manager = 'Gupta', player1='John Doe', ganesh='Ganesh Prasath')"
   ]
  },
  {
   "cell_type": "code",
   "execution_count": 45,
   "metadata": {
    "collapsed": false
   },
   "outputs": [
    {
     "name": "stdout",
     "output_type": "stream",
     "text": [
      "<type 'function'>\n",
      "20\n",
      "20\n",
      "30\n"
     ]
    }
   ],
   "source": [
    "# Function returning a function\n",
    "# y = 3x + 5\n",
    "# y = mx + c\n",
    "\n",
    "def linear_equation(slope,c=0):\n",
    "    def equation(x):\n",
    "        return slope*x + c\n",
    "    return equation\n",
    "\n",
    "def equation(x):\n",
    "    return 3*x + 5\n",
    "\n",
    "eq1 = linear_equation(slope=3,c=5)\n",
    "eq2 = linear_equation(4,10)\n",
    "print type(eq1)\n",
    "\n",
    "print eq1(5)\n",
    "print equation(5)\n",
    "print eq2(5)"
   ]
  },
  {
   "cell_type": "code",
   "execution_count": null,
   "metadata": {
    "collapsed": true
   },
   "outputs": [],
   "source": [
    "%matplotlib inline\n",
    "# Function as argument\n",
    "from matplotlib import pyplot as plt\n",
    "\n",
    "def plot_this(eqn):\n",
    "    x = range(-10,11)\n",
    "    y = [eqn(i) for i in x]\n",
    "    plt.plot(x,y)"
   ]
  },
  {
   "cell_type": "code",
   "execution_count": null,
   "metadata": {
    "collapsed": false
   },
   "outputs": [],
   "source": [
    "plot_this(eq1)"
   ]
  },
  {
   "cell_type": "markdown",
   "metadata": {},
   "source": [
    "### Decorators"
   ]
  },
  {
   "cell_type": "code",
   "execution_count": 51,
   "metadata": {},
   "outputs": [
    {
     "name": "stdout",
     "output_type": "stream",
     "text": [
      "<HTML><BODY><PRE>\n",
      "Hello Ganesh\n",
      "</HTML></BODY></PRE>\n"
     ]
    }
   ],
   "source": [
    "def html(func):\n",
    "    def pre(args):\n",
    "        print \"<HTML><BODY><PRE>\"\n",
    "        func(args)\n",
    "        print \"</HTML></BODY></PRE>\"\n",
    "    return pre\n",
    "\n",
    "@html\n",
    "def print_hello(name):\n",
    "    print \"Hello \"+name\n",
    "    \n",
    "print_hello(\"Ganesh\")"
   ]
  },
  {
   "cell_type": "code",
   "execution_count": 55,
   "metadata": {},
   "outputs": [],
   "source": [
    "a = [3, 4,5, 6]"
   ]
  },
  {
   "cell_type": "code",
   "execution_count": 62,
   "metadata": {},
   "outputs": [
    {
     "data": {
      "text/plain": [
       "[4, 6]"
      ]
     },
     "execution_count": 62,
     "metadata": {},
     "output_type": "execute_result"
    }
   ],
   "source": [
    "filter(lambda x:x%2==0,a)"
   ]
  },
  {
   "cell_type": "code",
   "execution_count": 64,
   "metadata": {
    "collapsed": false
   },
   "outputs": [
    {
     "name": "stdout",
     "output_type": "stream",
     "text": [
      "0\n",
      "total 297\n",
      "drwxr-xr-x+ 1 rgane rgane               0 Apr 26  2016 var\n",
      "drwxr-xr-x+ 1 rgane rgane               0 Apr 26  2016 usr\n",
      "drwxr-xr-x+ 1 rgane rgane               0 Apr 26  2016 lib\n",
      "drwxr-xr-x+ 1 rgane rgane               0 Apr 26  2016 sbin\n",
      "drwxr-xr-x+ 1 rgane rgane               0 Apr 26  2016 bin\n",
      "drwxrwxrwt+ 1 rgane rgane               0 Apr 26  2016 tmp\n",
      "drwxr-xr-x+ 1 rgane rgane               0 Apr 26  2016 dev\n",
      "-rw-r--r--  1 rgane Administrators 157097 Apr 26  2016 Cygwin.ico\n",
      "-rwxr-xr-x  1 rgane Administrators     59 Apr 26  2016 Cygwin.bat\n",
      "-rw-r--r--  1 rgane Administrators  53342 Apr 26  2016 Cygwin-Terminal.ico\n",
      "drwxrwxrwt+ 1 rgane rgane               0 Apr 26  2016 home\n",
      "drwxr-xr-x+ 1 rgane rgane               0 Apr 26  2016 etc\n",
      "dr-xr-xr-x  7 rgane rgane               0 Jul 29 23:23 proc\n",
      "dr-xr-xr-x  1 rgane rgane               0 Jul 29 23:23 cygdrive\n",
      "\n"
     ]
    }
   ],
   "source": [
    "from subprocess import call, check_output\n",
    "print call('dir')\n",
    "output = check_output('ls -ltr /')\n",
    "print output"
   ]
  },
  {
   "cell_type": "code",
   "execution_count": null,
   "metadata": {
    "collapsed": false
   },
   "outputs": [],
   "source": [
    "import random\n",
    "\n",
    "random.sample(range(1,1000),10)\n"
   ]
  }
 ],
 "metadata": {
  "kernelspec": {
   "display_name": "Python 2",
   "language": "python",
   "name": "python2"
  },
  "language_info": {
   "codemirror_mode": {
    "name": "ipython",
    "version": 2
   },
   "file_extension": ".py",
   "mimetype": "text/x-python",
   "name": "python",
   "nbconvert_exporter": "python",
   "pygments_lexer": "ipython2",
   "version": "2.7.11"
  }
 },
 "nbformat": 4,
 "nbformat_minor": 2
}
