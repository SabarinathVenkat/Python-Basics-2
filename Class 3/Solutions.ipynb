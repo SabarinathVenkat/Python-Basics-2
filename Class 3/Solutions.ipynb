{
 "cells": [
  {
   "cell_type": "code",
   "execution_count": 11,
   "metadata": {
    "collapsed": false
   },
   "outputs": [
    {
     "name": "stdout",
     "output_type": "stream",
     "text": [
      "Choose a level (easy,intermediate,hard):easy\n",
      "Number of questions : 3\n",
      "Question Type:(M,A,S,D):A\n",
      "What is 3  plus  2?5\n",
      "Well Done!!\n",
      "What is 7  plus  4?11\n",
      "Well Done!!\n",
      "What is 4  plus  9?13\n",
      "Well Done!!\n"
     ]
    }
   ],
   "source": [
    "# Interactive maths quiz:\n",
    "\n",
    "import random\n",
    "from operator import mul, div, add, sub\n",
    "\n",
    "levels = {'easy':10,'intermediate':100, 'hard':1000}\n",
    "q_types = {'M':[mul, ' multiplied by '], 'D':[div,' divided by '], 'A':[add,' plus '],'S':[sub,' minus ']}\n",
    "\n",
    "level = levels.get(raw_input('Choose a level (easy,intermediate,hard):'))\n",
    "loop = input('Number of questions : ')\n",
    "q = q_types.get(raw_input('Question Type:(M,A,S,D):'))\n",
    "\n",
    "for i in range(loop):\n",
    "    a,b = random.sample(range(1,level),2)\n",
    "    ans = input(\"What is {0} {1} {2}?\".format(a,q[1],b))\n",
    "    if q[0](a,b) == ans:\n",
    "        print \"Well Done!!\"\n",
    "    else:\n",
    "        print \"Nice try! better luck next time!!\""
   ]
  },
  {
   "cell_type": "code",
   "execution_count": 5,
   "metadata": {
    "collapsed": false
   },
   "outputs": [
    {
     "data": {
      "text/plain": [
       "8"
      ]
     },
     "execution_count": 5,
     "metadata": {},
     "output_type": "execute_result"
    }
   ],
   "source": [
    "# Recursive function?\n",
    "\n",
    "def recPow(x,n):\n",
    "    assert n>=0, \" Supporting only positive powers for now\"\n",
    "    if n == 0:\n",
    "        return 1\n",
    "    else:\n",
    "        return x*recPow(x,n-1)\n",
    "    \n",
    "recPow(2,3)"
   ]
  },
  {
   "cell_type": "code",
   "execution_count": 6,
   "metadata": {
    "collapsed": false
   },
   "outputs": [
    {
     "data": {
      "text/plain": [
       "[['larry', 0, 'b'], ['john', 1, 'a']]"
      ]
     },
     "execution_count": 6,
     "metadata": {},
     "output_type": "execute_result"
    }
   ],
   "source": [
    "# Lambda sorting\n",
    "\n",
    "mylist = [[\"john\",1,\"a\"],[\"larry\",0,\"b\"]]\n",
    "sorted(mylist,key = lambda x:x[1])"
   ]
  }
 ],
 "metadata": {
  "kernelspec": {
   "display_name": "Python 2",
   "language": "python",
   "name": "python2"
  },
  "language_info": {
   "codemirror_mode": {
    "name": "ipython",
    "version": 2
   },
   "file_extension": ".py",
   "mimetype": "text/x-python",
   "name": "python",
   "nbconvert_exporter": "python",
   "pygments_lexer": "ipython2",
   "version": "2.7.11"
  }
 },
 "nbformat": 4,
 "nbformat_minor": 0
}
