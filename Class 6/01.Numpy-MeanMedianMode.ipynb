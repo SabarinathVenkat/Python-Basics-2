{
 "cells": [
  {
   "cell_type": "markdown",
   "metadata": {},
   "source": [
    "# Mean, Median, Mode using NumPy"
   ]
  },
  {
   "cell_type": "markdown",
   "metadata": {},
   "source": [
    "## Mean"
   ]
  },
  {
   "cell_type": "markdown",
   "metadata": {},
   "source": [
    "We'll initially generate income data for 4,000 people with a normal distribution and standard deviation of 5,000, with 3,000 data points.\n",
    "\n",
    "To begin with, we'll compute the mean (average) and it should be close to 4,000."
   ]
  },
  {
   "cell_type": "code",
   "execution_count": 1,
   "metadata": {},
   "outputs": [
    {
     "name": "stdout",
     "output_type": "stream",
     "text": [
      "[ 4719.5647333    662.78203573  3626.10596057 ..., -3806.20035624\n",
      "  6531.7462384   7848.25974786]\n"
     ]
    },
    {
     "data": {
      "text/plain": [
       "3957.8497214832382"
      ]
     },
     "execution_count": 1,
     "metadata": {},
     "output_type": "execute_result"
    }
   ],
   "source": [
    "import numpy as np\n",
    "\n",
    "monthly_incomes = np.random.normal(4000, 5000, 3000)\n",
    "print monthly_incomes\n",
    "np.mean(monthly_incomes)"
   ]
  },
  {
   "cell_type": "markdown",
   "metadata": {},
   "source": [
    "We now evenly distribute income data into 30 buckets and visualize it as a histogram:"
   ]
  },
  {
   "cell_type": "code",
   "execution_count": 3,
   "metadata": {},
   "outputs": [
    {
     "data": {
      "image/png": "[encoded data removed]",
      "text/plain": [
       "<matplotlib.figure.Figure at 0x7d54978>"
      ]
     },
     "metadata": {},
     "output_type": "display_data"
    }
   ],
   "source": [
    "%matplotlib inline\n",
    "import matplotlib.pyplot as plt\n",
    "plt.hist(monthly_incomes, 50)\n",
    "plt.show()"
   ]
  },
  {
   "cell_type": "markdown",
   "metadata": {},
   "source": [
    "## Median"
   ]
  },
  {
   "cell_type": "markdown",
   "metadata": {},
   "source": [
    "Now, lets compute the median. Since the data distribution is even, median too should be close to 10,000:"
   ]
  },
  {
   "cell_type": "code",
   "execution_count": 9,
   "metadata": {},
   "outputs": [
    {
     "data": {
      "text/plain": [
       "3888.0452532864078"
      ]
     },
     "execution_count": 9,
     "metadata": {},
     "output_type": "execute_result"
    }
   ],
   "source": [
    "np.median(monthly_incomes)"
   ]
  },
  {
   "cell_type": "markdown",
   "metadata": {},
   "source": [
    "Let's add Bill Gates' income to the list and observe income disparity!"
   ]
  },
  {
   "cell_type": "code",
   "execution_count": 12,
   "metadata": {},
   "outputs": [
    {
     "data": {
      "text/plain": [
       "3000805.8585039065"
      ]
     },
     "execution_count": 12,
     "metadata": {},
     "output_type": "execute_result"
    }
   ],
   "source": [
    "monthly_incomes = np.append(monthly_incomes, [3000000000])\n",
    "np.mean(monthly_incomes)"
   ]
  },
  {
   "cell_type": "markdown",
   "metadata": {},
   "source": [
    "The median won't change much, but the mean does:"
   ]
  },
  {
   "cell_type": "code",
   "execution_count": 11,
   "metadata": {},
   "outputs": [
    {
     "data": {
      "text/plain": [
       "3891.0328334283981"
      ]
     },
     "execution_count": 11,
     "metadata": {},
     "output_type": "execute_result"
    }
   ],
   "source": [
    "np.median(monthly_incomes)"
   ]
  },
  {
   "cell_type": "code",
   "execution_count": 13,
   "metadata": {},
   "outputs": [
    {
     "data": {
      "text/plain": [
       "3000805.8585039065"
      ]
     },
     "execution_count": 13,
     "metadata": {},
     "output_type": "execute_result"
    }
   ],
   "source": [
    "np.mean(monthly_incomes)"
   ]
  },
  {
   "cell_type": "markdown",
   "metadata": {},
   "source": [
    "## Mode"
   ]
  },
  {
   "cell_type": "markdown",
   "metadata": {},
   "source": [
    "Next, let's generate some fake age data for 500 people:"
   ]
  },
  {
   "cell_type": "code",
   "execution_count": 16,
   "metadata": {},
   "outputs": [
    {
     "data": {
      "text/plain": [
       "array([78, 71, 25, 80, 55, 24, 56, 69, 24, 37, 64, 84, 89, 40, 26, 46, 84,\n",
       "       26, 87, 58, 28, 84, 55, 21, 58, 21, 48, 61, 71, 59, 56, 22, 48, 79,\n",
       "       52, 64, 46, 57, 49, 56, 61, 30, 31, 27, 75, 73, 88, 31, 35, 76, 35,\n",
       "       74, 70, 79, 23, 61, 42, 20, 63, 46, 21, 65, 86, 25, 63, 69, 82, 57,\n",
       "       56, 18, 88, 62, 24, 56, 28, 29, 85, 59, 76, 60, 35, 75, 88, 74, 18,\n",
       "       39, 62, 84, 37, 65, 54, 89, 56, 35, 81, 57, 57, 89, 49, 54, 38, 80,\n",
       "       88, 73, 24, 71, 38, 71, 48, 67, 86, 53, 35, 31, 56, 60, 35, 32, 49,\n",
       "       55, 70, 88, 45, 78, 27, 67, 65, 82, 79, 78, 22, 39, 70, 46, 46, 59,\n",
       "       22, 49, 86, 45, 79, 55, 23, 73, 47, 33, 56, 54, 26, 66, 59, 43, 62,\n",
       "       39, 47, 63, 50, 28, 37, 78, 32, 51, 41, 50, 85, 79, 48, 87, 49, 68,\n",
       "       49, 68, 78, 25, 87, 22, 19, 33, 28, 80, 70, 24, 56, 30, 61, 44, 64,\n",
       "       38, 69, 42, 20, 72, 36, 57, 59, 22, 52, 58, 32, 88, 60, 22, 29, 46,\n",
       "       21, 45, 33, 42, 85, 61, 49, 26, 81, 31, 74, 55, 48, 31, 23, 42, 20,\n",
       "       52, 35, 51, 47, 40, 64, 76, 23, 76, 30, 54, 55, 56, 75, 82, 66, 36,\n",
       "       59, 30, 22, 54, 50, 58, 27, 42, 24, 34, 26, 63, 60, 62, 33, 73, 79,\n",
       "       42, 26, 69, 34, 45, 42, 86, 74, 66, 35, 88, 39, 77, 32, 33, 67, 35,\n",
       "       54, 59, 59, 73, 65, 61, 79, 48, 87, 42, 70, 18, 18, 33, 48, 43, 80,\n",
       "       75, 28, 42, 39, 35, 25, 25, 54, 20, 41, 77, 37, 51, 69, 83, 69, 44,\n",
       "       54, 54, 71, 73, 23, 26, 61, 44, 71, 82, 19, 59, 34, 70, 62, 48, 32,\n",
       "       43, 54, 19, 23, 62, 19, 30, 52, 41, 44, 68, 57, 84, 40, 42, 80, 52,\n",
       "       63, 72, 40, 72, 19, 53, 29, 64, 85, 36, 77, 52, 23, 71, 88, 39, 19,\n",
       "       45, 68, 27, 63, 71, 76, 86, 32, 51, 42, 83, 82, 20, 79, 51, 48, 19,\n",
       "       56, 73, 50, 71, 31, 60, 69, 26, 28, 62, 73, 73, 83, 57, 73, 22, 50,\n",
       "       74, 88, 60, 28, 84, 70, 57, 26, 27, 62, 47, 45, 64, 31, 34, 48, 76,\n",
       "       58, 20, 75, 34, 27, 74, 19, 73, 58, 57, 62, 59, 72, 49, 53, 27, 53,\n",
       "       40, 29, 51, 69, 57, 80, 87, 67, 34, 83, 69, 88, 74, 89, 65, 34, 56,\n",
       "       74, 82, 43, 48, 82, 31, 56, 38, 41, 63, 60, 33, 48, 58, 43, 66, 68,\n",
       "       32, 38, 65, 50, 68, 31, 58, 43, 76, 85, 67, 55, 79, 63, 51, 46, 26,\n",
       "       37, 30, 26, 41, 89, 76, 82, 53, 78, 45, 78, 33, 24, 24, 63, 72, 57,\n",
       "       83, 34, 43, 46, 75, 21, 89])"
      ]
     },
     "execution_count": 16,
     "metadata": {},
     "output_type": "execute_result"
    }
   ],
   "source": [
    "ages = np.random.randint(18, high=90, size=500)\n",
    "ages"
   ]
  },
  {
   "cell_type": "code",
   "execution_count": 17,
   "metadata": {},
   "outputs": [
    {
     "data": {
      "text/plain": [
       "ModeResult(mode=array([56]), count=array([13]))"
      ]
     },
     "execution_count": 17,
     "metadata": {},
     "output_type": "execute_result"
    }
   ],
   "source": [
    "from scipy import stats\n",
    "stats.mode(ages)"
   ]
  },
  {
   "cell_type": "code",
   "execution_count": null,
   "metadata": {
    "collapsed": true
   },
   "outputs": [],
   "source": []
  }
 ],
 "metadata": {
  "kernelspec": {
   "display_name": "Python 2",
   "language": "python",
   "name": "python2"
  },
  "language_info": {
   "codemirror_mode": {
    "name": "ipython",
    "version": 2
   },
   "file_extension": ".py",
   "mimetype": "text/x-python",
   "name": "python",
   "nbconvert_exporter": "python",
   "pygments_lexer": "ipython2",
   "version": "2.7.11"
  }
 },
 "nbformat": 4,
 "nbformat_minor": 2
}
