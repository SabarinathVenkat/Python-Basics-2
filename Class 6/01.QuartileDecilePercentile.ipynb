{
 "cells": [
  {
   "cell_type": "markdown",
   "metadata": {},
   "source": [
    "# Quartile, Decile & Percentile"
   ]
  },
  {
   "cell_type": "code",
   "execution_count": 6,
   "metadata": {},
   "outputs": [
    {
     "data": {
      "image/png": "[encoded data removed]",
      "text/plain": [
       "<matplotlib.figure.Figure at 0x79b34e0>"
      ]
     },
     "metadata": {},
     "output_type": "display_data"
    }
   ],
   "source": [
    "%matplotlib inline\n",
    "import numpy as np\n",
    "import matplotlib.pyplot as plt\n",
    "\n",
    "vals = np.random.normal(3, 9, 10000)\n",
    "\n",
    "plt.hist(vals, 45)\n",
    "plt.show()"
   ]
  },
  {
   "cell_type": "code",
   "execution_count": 10,
   "metadata": {},
   "outputs": [
    {
     "data": {
      "text/plain": [
       "[<matplotlib.lines.Line2D at 0x7ac90b8>]"
      ]
     },
     "execution_count": 10,
     "metadata": {},
     "output_type": "execute_result"
    },
    {
     "data": {
      "image/png": "[encoded data removed]",
      "text/plain": [
       "<matplotlib.figure.Figure at 0x7292898>"
      ]
     },
     "metadata": {},
     "output_type": "display_data"
    }
   ],
   "source": [
    "plt.plot(range(1,50),[x**2 for x in range(1,50) ],'b+')"
   ]
  },
  {
   "cell_type": "markdown",
   "metadata": {},
   "source": [
    "# Quartile"
   ]
  },
  {
   "cell_type": "code",
   "execution_count": 12,
   "metadata": {},
   "outputs": [
    {
     "data": {
      "text/plain": [
       "array([-32.470306  ,  -8.32239492,  -4.37761007,  -1.53040795,\n",
       "         0.86027761,   3.1097203 ,   5.37437712,   7.80976068,\n",
       "        10.52520636,  14.49515262])"
      ]
     },
     "execution_count": 12,
     "metadata": {},
     "output_type": "execute_result"
    }
   ],
   "source": [
    "np.percentile(vals, np.arange(0,100,10)) # Quartiles"
   ]
  },
  {
   "cell_type": "code",
   "execution_count": 2,
   "metadata": {},
   "outputs": [
    {
     "data": {
      "text/plain": [
       "\u001b[1;31mSignature: \u001b[0m\u001b[0mnp\u001b[0m\u001b[1;33m.\u001b[0m\u001b[0mpercentile\u001b[0m\u001b[1;33m(\u001b[0m\u001b[0ma\u001b[0m\u001b[1;33m,\u001b[0m \u001b[0mq\u001b[0m\u001b[1;33m,\u001b[0m \u001b[0maxis\u001b[0m\u001b[1;33m=\u001b[0m\u001b[0mNone\u001b[0m\u001b[1;33m,\u001b[0m \u001b[0mout\u001b[0m\u001b[1;33m=\u001b[0m\u001b[0mNone\u001b[0m\u001b[1;33m,\u001b[0m \u001b[0moverwrite_input\u001b[0m\u001b[1;33m=\u001b[0m\u001b[0mFalse\u001b[0m\u001b[1;33m,\u001b[0m \u001b[0minterpolation\u001b[0m\u001b[1;33m=\u001b[0m\u001b[1;34m'linear'\u001b[0m\u001b[1;33m,\u001b[0m \u001b[0mkeepdims\u001b[0m\u001b[1;33m=\u001b[0m\u001b[0mFalse\u001b[0m\u001b[1;33m)\u001b[0m\u001b[1;33m\u001b[0m\u001b[0m\n",
       "\u001b[1;31mDocstring:\u001b[0m\n",
       "Compute the qth percentile of the data along the specified axis.\n",
       "\n",
       "Returns the qth percentile of the array elements.\n",
       "\n",
       "Parameters\n",
       "----------\n",
       "a : array_like\n",
       "    Input array or object that can be converted to an array.\n",
       "q : float in range of [0,100] (or sequence of floats)\n",
       "    Percentile to compute which must be between 0 and 100 inclusive.\n",
       "axis : int or sequence of int, optional\n",
       "    Axis along which the percentiles are computed. The default (None)\n",
       "    is to compute the percentiles along a flattened version of the array.\n",
       "    A sequence of axes is supported since version 1.9.0.\n",
       "out : ndarray, optional\n",
       "    Alternative output array in which to place the result. It must\n",
       "    have the same shape and buffer length as the expected output,\n",
       "    but the type (of the output) will be cast if necessary.\n",
       "overwrite_input : bool, optional\n",
       "    If True, then allow use of memory of input array `a` for\n",
       "    calculations. The input array will be modified by the call to\n",
       "    percentile. This will save memory when you do not need to preserve\n",
       "    the contents of the input array. In this case you should not make\n",
       "    any assumptions about the content of the passed in array `a` after\n",
       "    this function completes -- treat it as undefined. Default is False.\n",
       "    Note that, if the `a` input is not already an array this parameter\n",
       "    will have no effect, `a` will be converted to an array internally\n",
       "    regardless of the value of this parameter.\n",
       "interpolation : {'linear', 'lower', 'higher', 'midpoint', 'nearest'}\n",
       "    This optional parameter specifies the interpolation method to use,\n",
       "    when the desired quantile lies between two data points `i` and `j`:\n",
       "        * linear: `i + (j - i) * fraction`, where `fraction` is the\n",
       "          fractional part of the index surrounded by `i` and `j`.\n",
       "        * lower: `i`.\n",
       "        * higher: `j`.\n",
       "        * nearest: `i` or `j` whichever is nearest.\n",
       "        * midpoint: (`i` + `j`) / 2.\n",
       "\n",
       "    .. versionadded:: 1.9.0\n",
       "keepdims : bool, optional\n",
       "    If this is set to True, the axes which are reduced are left\n",
       "    in the result as dimensions with size one. With this option,\n",
       "    the result will broadcast correctly against the original array `a`.\n",
       "\n",
       "    .. versionadded:: 1.9.0\n",
       "\n",
       "Returns\n",
       "-------\n",
       "percentile : scalar or ndarray\n",
       "    If a single percentile `q` is given and axis=None a scalar is\n",
       "    returned.  If multiple percentiles `q` are given an array holding\n",
       "    the result is returned. The results are listed in the first axis.\n",
       "    (If `out` is specified, in which case that array is returned\n",
       "    instead).  If the input contains integers, or floats of smaller\n",
       "    precision than 64, then the output data-type is float64. Otherwise,\n",
       "    the output data-type is the same as that of the input.\n",
       "\n",
       "See Also\n",
       "--------\n",
       "mean, median\n",
       "\n",
       "Notes\n",
       "-----\n",
       "Given a vector V of length N, the q-th percentile of V is the q-th ranked\n",
       "value in a sorted copy of V.  The values and distances of the two\n",
       "nearest neighbors as well as the `interpolation` parameter will\n",
       "determine the percentile if the normalized ranking does not match q\n",
       "exactly. This function is the same as the median if ``q=50``, the same\n",
       "as the minimum if ``q=0`` and the same as the maximum if ``q=100``.\n",
       "\n",
       "Examples\n",
       "--------\n",
       ">>> a = np.array([[10, 7, 4], [3, 2, 1]])\n",
       ">>> a\n",
       "array([[10,  7,  4],\n",
       "       [ 3,  2,  1]])\n",
       ">>> np.percentile(a, 50)\n",
       "array([ 3.5])\n",
       ">>> np.percentile(a, 50, axis=0)\n",
       "array([[ 6.5,  4.5,  2.5]])\n",
       ">>> np.percentile(a, 50, axis=1)\n",
       "array([[ 7.],\n",
       "       [ 2.]])\n",
       "\n",
       ">>> m = np.percentile(a, 50, axis=0)\n",
       ">>> out = np.zeros_like(m)\n",
       ">>> np.percentile(a, 50, axis=0, out=m)\n",
       "array([[ 6.5,  4.5,  2.5]])\n",
       ">>> m\n",
       "array([[ 6.5,  4.5,  2.5]])\n",
       "\n",
       ">>> b = a.copy()\n",
       ">>> np.percentile(b, 50, axis=1, overwrite_input=True)\n",
       "array([[ 7.],\n",
       "       [ 2.]])\n",
       ">>> assert not np.all(a==b)\n",
       ">>> b = a.copy()\n",
       ">>> np.percentile(b, 50, axis=None, overwrite_input=True)\n",
       "array([ 3.5])\n",
       "\u001b[1;31mFile:      \u001b[0mc:\\anaconda2\\lib\\site-packages\\numpy\\lib\\function_base.py\n",
       "\u001b[1;31mType:      \u001b[0mfunction"
      ]
     },
     "metadata": {},
     "output_type": "display_data"
    }
   ],
   "source": [
    "np.percentile?"
   ]
  },
  {
   "cell_type": "markdown",
   "metadata": {},
   "source": [
    "# Decile"
   ]
  },
  {
   "cell_type": "code",
   "execution_count": 13,
   "metadata": {},
   "outputs": [
    {
     "data": {
      "text/plain": [
       "array([-32.470306  ,  -2.9306808 ,   3.1097203 ,   9.12297211])"
      ]
     },
     "execution_count": 13,
     "metadata": {},
     "output_type": "execute_result"
    }
   ],
   "source": [
    "np.percentile(vals, np.arange(0, 100, 25)) # Deciles"
   ]
  },
  {
   "cell_type": "markdown",
   "metadata": {},
   "source": [
    "# Percentile"
   ]
  },
  {
   "cell_type": "code",
   "execution_count": 4,
   "metadata": {},
   "outputs": [
    {
     "data": {
      "text/plain": [
       "3.040575417173133"
      ]
     },
     "execution_count": 4,
     "metadata": {},
     "output_type": "execute_result"
    }
   ],
   "source": [
    "np.percentile(vals, 50)"
   ]
  },
  {
   "cell_type": "code",
   "execution_count": 11,
   "metadata": {},
   "outputs": [
    {
     "data": {
      "text/plain": [
       "14.428071873383551"
      ]
     },
     "execution_count": 11,
     "metadata": {},
     "output_type": "execute_result"
    }
   ],
   "source": [
    "np.percentile(vals, 90)"
   ]
  },
  {
   "cell_type": "code",
   "execution_count": 5,
   "metadata": {},
   "outputs": [
    {
     "data": {
      "text/plain": [
       "-4.4783067029535975"
      ]
     },
     "execution_count": 5,
     "metadata": {},
     "output_type": "execute_result"
    }
   ],
   "source": [
    "np.percentile(vals, 20)"
   ]
  },
  {
   "cell_type": "markdown",
   "metadata": {},
   "source": [
    "## Activity"
   ]
  },
  {
   "cell_type": "markdown",
   "metadata": {},
   "source": [
    "Experiment with different parameters when creating the test data. What effect does it have on the percentiles?"
   ]
  },
  {
   "cell_type": "code",
   "execution_count": null,
   "metadata": {
    "collapsed": true
   },
   "outputs": [],
   "source": []
  }
 ],
 "metadata": {
  "kernelspec": {
   "display_name": "Python 2",
   "language": "python",
   "name": "python2"
  },
  "language_info": {
   "codemirror_mode": {
    "name": "ipython",
    "version": 2
   },
   "file_extension": ".py",
   "mimetype": "text/x-python",
   "name": "python",
   "nbconvert_exporter": "python",
   "pygments_lexer": "ipython2",
   "version": "2.7.11"
  }
 },
 "nbformat": 4,
 "nbformat_minor": 2
}
