{
 "cells": [
  {
   "cell_type": "markdown",
   "metadata": {},
   "source": [
    "## What is Machine Learning?"
   ]
  },
  {
   "cell_type": "markdown",
   "metadata": {},
   "source": [
    "- What is next in the series?\n",
    "\n",
    "     7,13,19,?\n",
    "\n",
    "y = 2x+3\n",
    "- What is this function?\n",
    "    - f(1) = 5\n",
    "    - f(2) = 7\n",
    "    - f(3) = 9\n",
    "    - f(x) = _\n",
    "\n",
    "\n",
    "- What is oval in shape, white in color and breaks easily?\n",
    "\n",
    "\n",
    "- In Belarusian language ( which I hope no one of you knows ):\n",
    "   - Hot Pepper = гарачы перац\n",
    "   - Pepper Chicken = курыны Перац\n",
    "   - Chicken noodles = курыная локшына\n",
    "\n",
    "What does **гарачы локшына** mean in Belarusian?\n",
    "\n",
    "\n",
    "##### _Think about how you answered these questions?_"
   ]
  },
  {
   "cell_type": "markdown",
   "metadata": {},
   "source": [
    "## What type of problems are these?\n",
    "\n",
    "- Estimating the population of a city based on its area\n",
    "- Determine the Gender based on Twitter texts\n",
    "- Determining which segment a customer belongs to based on purchases\n",
    "- Predict if a movie is going to run more than 25 days?\n",
    "- Automatically create folders and organize files in your PC.\n",
    "- Given a list of 100 news articles, segreggate them into categories. However you do not have the list of categories     with you"
   ]
  },
  {
   "cell_type": "markdown",
   "metadata": {},
   "source": [
    "## Let's create a house price prediction model."
   ]
  },
  {
   "cell_type": "code",
   "execution_count": 69,
   "metadata": {},
   "outputs": [],
   "source": [
    "import numpy as np\n",
    "import random"
   ]
  },
  {
   "cell_type": "code",
   "execution_count": 70,
   "metadata": {},
   "outputs": [],
   "source": [
    "## Let us define a function which gives us the house price:\n",
    "##   1. Number of Rooms\n",
    "##   2. Built up area in Square Feet\n",
    "##   3. The age of the building ( Depreciation )\n",
    "\n",
    "def house_price(rooms,sqft,age):\n",
    "    return rooms * 50000 + sqft * 3500 - age * 10000 + random.randrange(10000,100000)"
   ]
  },
  {
   "cell_type": "code",
   "execution_count": 73,
   "metadata": {},
   "outputs": [],
   "source": [
    "## Let us create a sample data set for 100 houses.\n",
    "data = [ [random.randrange(1,6),random.randrange(1000,5000), random.randrange(0,150)] for _ in range(1000)]\n",
    "labels = [house_price(*ele) for ele in data]"
   ]
  },
  {
   "cell_type": "code",
   "execution_count": 76,
   "metadata": {},
   "outputs": [
    {
     "name": "stdout",
     "output_type": "stream",
     "text": [
      "[[5, 1113, 131], [4, 4068, 7], [1, 1268, 4], [4, 2098, 125]]\n",
      "[2851247, 14467106, 4532530, 6314018]\n"
     ]
    }
   ],
   "source": [
    "print data[0:4]\n",
    "print labels[0:4]"
   ]
  },
  {
   "cell_type": "markdown",
   "metadata": {},
   "source": [
    "### Questions\n",
    "\n",
    "- **What are the features?**\n",
    "\n",
    "\n",
    "- **Which is the label?**"
   ]
  },
  {
   "cell_type": "code",
   "execution_count": null,
   "metadata": {},
   "outputs": [],
   "source": [
    "y = m1*x1+m2*x2+m3*x3+c"
   ]
  },
  {
   "cell_type": "code",
   "execution_count": 77,
   "metadata": {},
   "outputs": [],
   "source": [
    "from sklearn.linear_model import LinearRegression"
   ]
  },
  {
   "cell_type": "code",
   "execution_count": 79,
   "metadata": {},
   "outputs": [
    {
     "data": {
      "text/plain": [
       "LinearRegression(copy_X=True, fit_intercept=True, n_jobs=1, normalize=False)"
      ]
     },
     "execution_count": 79,
     "metadata": {},
     "output_type": "execute_result"
    }
   ],
   "source": [
    "clf = LinearRegression()\n",
    "clf.fit(data,labels)"
   ]
  },
  {
   "cell_type": "code",
   "execution_count": 86,
   "metadata": {},
   "outputs": [],
   "source": [
    "clf.coef_\n",
    "predicted = clf.predict(data)\n",
    "#  rooms * 50000 + sqft * 3500 - age * 10000 + random.randrange(10000,100000)"
   ]
  },
  {
   "cell_type": "code",
   "execution_count": 83,
   "metadata": {},
   "outputs": [
    {
     "name": "stdout",
     "output_type": "stream",
     "text": [
      "35592274\n",
      "[ 35569978.13209882]\n"
     ]
    }
   ],
   "source": [
    "print house_price(10, 10000, 0)\n",
    "print clf.predict([[10, 10000, 0]])"
   ]
  },
  {
   "cell_type": "code",
   "execution_count": 84,
   "metadata": {},
   "outputs": [
    {
     "data": {
      "text/plain": [
       "0.99995580795752714"
      ]
     },
     "execution_count": 84,
     "metadata": {},
     "output_type": "execute_result"
    }
   ],
   "source": [
    "clf.score(data,labels)"
   ]
  },
  {
   "cell_type": "code",
   "execution_count": 87,
   "metadata": {},
   "outputs": [
    {
     "data": {
      "text/plain": [
       "[<matplotlib.lines.Line2D at 0xb4ae518>]"
      ]
     },
     "execution_count": 87,
     "metadata": {},
     "output_type": "execute_result"
    },
    {
     "data": {
      "image/png": "[encoded data removed]",
      "text/plain": [
       "<matplotlib.figure.Figure at 0xbeead68>"
      ]
     },
     "metadata": {},
     "output_type": "display_data"
    }
   ],
   "source": [
    "%matplotlib inline\n",
    "from matplotlib import pyplot as plt\n",
    "plt.scatter(x=[i[1] for i in data],y = labels,marker='x',color='red')\n",
    "plt.plot([i[1] for i in data],predicted)"
   ]
  },
  {
   "cell_type": "code",
   "execution_count": 88,
   "metadata": {},
   "outputs": [],
   "source": [
    "import pandas as pd\n"
   ]
  },
  {
   "cell_type": "code",
   "execution_count": 89,
   "metadata": {},
   "outputs": [],
   "source": [
    "df = pd.DataFrame(data)"
   ]
  },
  {
   "cell_type": "code",
   "execution_count": 90,
   "metadata": {},
   "outputs": [],
   "source": [
    "df['target'] = labels"
   ]
  },
  {
   "cell_type": "code",
   "execution_count": 92,
   "metadata": {},
   "outputs": [],
   "source": [
    "df.columns = ['room','sqft','age','target']"
   ]
  },
  {
   "cell_type": "code",
   "execution_count": 103,
   "metadata": {},
   "outputs": [
    {
     "data": {
      "text/plain": [
       "\u001b[1;31mSignature: \u001b[0m\u001b[0mdf\u001b[0m\u001b[1;33m.\u001b[0m\u001b[0mmerge\u001b[0m\u001b[1;33m(\u001b[0m\u001b[0mright\u001b[0m\u001b[1;33m,\u001b[0m \u001b[0mhow\u001b[0m\u001b[1;33m=\u001b[0m\u001b[1;34m'inner'\u001b[0m\u001b[1;33m,\u001b[0m \u001b[0mon\u001b[0m\u001b[1;33m=\u001b[0m\u001b[0mNone\u001b[0m\u001b[1;33m,\u001b[0m \u001b[0mleft_on\u001b[0m\u001b[1;33m=\u001b[0m\u001b[0mNone\u001b[0m\u001b[1;33m,\u001b[0m \u001b[0mright_on\u001b[0m\u001b[1;33m=\u001b[0m\u001b[0mNone\u001b[0m\u001b[1;33m,\u001b[0m \u001b[0mleft_index\u001b[0m\u001b[1;33m=\u001b[0m\u001b[0mFalse\u001b[0m\u001b[1;33m,\u001b[0m \u001b[0mright_index\u001b[0m\u001b[1;33m=\u001b[0m\u001b[0mFalse\u001b[0m\u001b[1;33m,\u001b[0m \u001b[0msort\u001b[0m\u001b[1;33m=\u001b[0m\u001b[0mFalse\u001b[0m\u001b[1;33m,\u001b[0m \u001b[0msuffixes\u001b[0m\u001b[1;33m=\u001b[0m\u001b[1;33m(\u001b[0m\u001b[1;34m'_x'\u001b[0m\u001b[1;33m,\u001b[0m \u001b[1;34m'_y'\u001b[0m\u001b[1;33m)\u001b[0m\u001b[1;33m,\u001b[0m \u001b[0mcopy\u001b[0m\u001b[1;33m=\u001b[0m\u001b[0mTrue\u001b[0m\u001b[1;33m,\u001b[0m \u001b[0mindicator\u001b[0m\u001b[1;33m=\u001b[0m\u001b[0mFalse\u001b[0m\u001b[1;33m)\u001b[0m\u001b[1;33m\u001b[0m\u001b[0m\n",
       "\u001b[1;31mDocstring:\u001b[0m\n",
       "Merge DataFrame objects by performing a database-style join operation by\n",
       "columns or indexes.\n",
       "\n",
       "If joining columns on columns, the DataFrame indexes *will be\n",
       "ignored*. Otherwise if joining indexes on indexes or indexes on a column or\n",
       "columns, the index will be passed on.\n",
       "\n",
       "Parameters\n",
       "----------\n",
       "right : DataFrame\n",
       "how : {'left', 'right', 'outer', 'inner'}, default 'inner'\n",
       "    * left: use only keys from left frame (SQL: left outer join)\n",
       "    * right: use only keys from right frame (SQL: right outer join)\n",
       "    * outer: use union of keys from both frames (SQL: full outer join)\n",
       "    * inner: use intersection of keys from both frames (SQL: inner join)\n",
       "on : label or list\n",
       "    Field names to join on. Must be found in both DataFrames. If on is\n",
       "    None and not merging on indexes, then it merges on the intersection of\n",
       "    the columns by default.\n",
       "left_on : label or list, or array-like\n",
       "    Field names to join on in left DataFrame. Can be a vector or list of\n",
       "    vectors of the length of the DataFrame to use a particular vector as\n",
       "    the join key instead of columns\n",
       "right_on : label or list, or array-like\n",
       "    Field names to join on in right DataFrame or vector/list of vectors per\n",
       "    left_on docs\n",
       "left_index : boolean, default False\n",
       "    Use the index from the left DataFrame as the join key(s). If it is a\n",
       "    MultiIndex, the number of keys in the other DataFrame (either the index\n",
       "    or a number of columns) must match the number of levels\n",
       "right_index : boolean, default False\n",
       "    Use the index from the right DataFrame as the join key. Same caveats as\n",
       "    left_index\n",
       "sort : boolean, default False\n",
       "    Sort the join keys lexicographically in the result DataFrame\n",
       "suffixes : 2-length sequence (tuple, list, ...)\n",
       "    Suffix to apply to overlapping column names in the left and right\n",
       "    side, respectively\n",
       "copy : boolean, default True\n",
       "    If False, do not copy data unnecessarily\n",
       "indicator : boolean or string, default False\n",
       "    If True, adds a column to output DataFrame called \"_merge\" with\n",
       "    information on the source of each row.\n",
       "    If string, column with information on source of each row will be added to\n",
       "    output DataFrame, and column will be named value of string.\n",
       "    Information column is Categorical-type and takes on a value of \"left_only\"\n",
       "    for observations whose merge key only appears in 'left' DataFrame,\n",
       "    \"right_only\" for observations whose merge key only appears in 'right'\n",
       "    DataFrame, and \"both\" if the observation's merge key is found in both.\n",
       "\n",
       "    .. versionadded:: 0.17.0\n",
       "\n",
       "Examples\n",
       "--------\n",
       "\n",
       ">>> A              >>> B\n",
       "    lkey value         rkey value\n",
       "0   foo  1         0   foo  5\n",
       "1   bar  2         1   bar  6\n",
       "2   baz  3         2   qux  7\n",
       "3   foo  4         3   bar  8\n",
       "\n",
       ">>> A.merge(B, left_on='lkey', right_on='rkey', how='outer')\n",
       "   lkey  value_x  rkey  value_y\n",
       "0  foo   1        foo   5\n",
       "1  foo   4        foo   5\n",
       "2  bar   2        bar   6\n",
       "3  bar   2        bar   8\n",
       "4  baz   3        NaN   NaN\n",
       "5  NaN   NaN      qux   7\n",
       "\n",
       "Returns\n",
       "-------\n",
       "merged : DataFrame\n",
       "    The output type will the be same as 'left', if it is a subclass\n",
       "    of DataFrame.\n",
       "\u001b[1;31mFile:      \u001b[0mc:\\anaconda2\\lib\\site-packages\\pandas\\core\\frame.py\n",
       "\u001b[1;31mType:      \u001b[0minstancemethod"
      ]
     },
     "metadata": {},
     "output_type": "display_data"
    }
   ],
   "source": [
    "pd.read_csv(low_memory=True)"
   ]
  }
 ],
 "metadata": {
  "kernelspec": {
   "display_name": "Python 2",
   "language": "python",
   "name": "python2"
  },
  "language_info": {
   "codemirror_mode": {
    "name": "ipython",
    "version": 2
   },
   "file_extension": ".py",
   "mimetype": "text/x-python",
   "name": "python",
   "nbconvert_exporter": "python",
   "pygments_lexer": "ipython2",
   "version": "2.7.11"
  }
 },
 "nbformat": 4,
 "nbformat_minor": 2
}
