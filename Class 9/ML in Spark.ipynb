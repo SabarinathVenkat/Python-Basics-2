{
 "cells": [
  {
   "cell_type": "code",
   "execution_count": 1,
   "metadata": {},
   "outputs": [],
   "source": [
    "import pyspark"
   ]
  },
  {
   "cell_type": "code",
   "execution_count": 2,
   "metadata": {},
   "outputs": [],
   "source": [
    "from pyspark.ml.regression import LinearRegression\n",
    "from pyspark.ml.linalg import Vectors"
   ]
  },
  {
   "cell_type": "code",
   "execution_count": 3,
   "metadata": {},
   "outputs": [],
   "source": [
    "import pandas as pd\n",
    "df = pd.read_csv(\"https://raw.githubusercontent.com/uiuc-cse/data-fa14/gh-pages/data/iris.csv\")"
   ]
  },
  {
   "cell_type": "code",
   "execution_count": 4,
   "metadata": {},
   "outputs": [],
   "source": [
    "sc = pyspark.SparkContext(appName=\"ML_Examples\")"
   ]
  },
  {
   "cell_type": "code",
   "execution_count": 5,
   "metadata": {},
   "outputs": [],
   "source": [
    "sql = pyspark.SQLContext(sc)"
   ]
  },
  {
   "cell_type": "code",
   "execution_count": 6,
   "metadata": {},
   "outputs": [
    {
     "data": {
      "text/html": [
       "<div>\n",
       "<table border=\"1\" class=\"dataframe\">\n",
       "  <thead>\n",
       "    <tr style=\"text-align: right;\">\n",
       "      <th></th>\n",
       "      <th>sepal_length</th>\n",
       "      <th>sepal_width</th>\n",
       "      <th>petal_length</th>\n",
       "      <th>petal_width</th>\n",
       "      <th>species</th>\n",
       "    </tr>\n",
       "  </thead>\n",
       "  <tbody>\n",
       "    <tr>\n",
       "      <th>0</th>\n",
       "      <td>5.1</td>\n",
       "      <td>3.5</td>\n",
       "      <td>1.4</td>\n",
       "      <td>0.2</td>\n",
       "      <td>setosa</td>\n",
       "    </tr>\n",
       "    <tr>\n",
       "      <th>1</th>\n",
       "      <td>4.9</td>\n",
       "      <td>3.0</td>\n",
       "      <td>1.4</td>\n",
       "      <td>0.2</td>\n",
       "      <td>setosa</td>\n",
       "    </tr>\n",
       "    <tr>\n",
       "      <th>2</th>\n",
       "      <td>4.7</td>\n",
       "      <td>3.2</td>\n",
       "      <td>1.3</td>\n",
       "      <td>0.2</td>\n",
       "      <td>setosa</td>\n",
       "    </tr>\n",
       "    <tr>\n",
       "      <th>3</th>\n",
       "      <td>4.6</td>\n",
       "      <td>3.1</td>\n",
       "      <td>1.5</td>\n",
       "      <td>0.2</td>\n",
       "      <td>setosa</td>\n",
       "    </tr>\n",
       "    <tr>\n",
       "      <th>4</th>\n",
       "      <td>5.0</td>\n",
       "      <td>3.6</td>\n",
       "      <td>1.4</td>\n",
       "      <td>0.2</td>\n",
       "      <td>setosa</td>\n",
       "    </tr>\n",
       "  </tbody>\n",
       "</table>\n",
       "</div>"
      ],
      "text/plain": [
       "   sepal_length  sepal_width  petal_length  petal_width species\n",
       "0           5.1          3.5           1.4          0.2  setosa\n",
       "1           4.9          3.0           1.4          0.2  setosa\n",
       "2           4.7          3.2           1.3          0.2  setosa\n",
       "3           4.6          3.1           1.5          0.2  setosa\n",
       "4           5.0          3.6           1.4          0.2  setosa"
      ]
     },
     "execution_count": 6,
     "metadata": {},
     "output_type": "execute_result"
    }
   ],
   "source": [
    "df.head()"
   ]
  },
  {
   "cell_type": "code",
   "execution_count": 7,
   "metadata": {},
   "outputs": [
    {
     "data": {
      "text/plain": [
       "('setosa', (5.1, 3.5, 1.4, 0.2))"
      ]
     },
     "execution_count": 7,
     "metadata": {},
     "output_type": "execute_result"
    }
   ],
   "source": [
    "('setosa',(5.1,3.5,1.4,0.2))"
   ]
  },
  {
   "cell_type": "code",
   "execution_count": 8,
   "metadata": {},
   "outputs": [
    {
     "name": "stderr",
     "output_type": "stream",
     "text": [
      "c:\\anaconda2\\lib\\site-packages\\ipykernel\\__main__.py:4: FutureWarning: irow(i) is deprecated. Please use .iloc[i]\n",
      "c:\\anaconda2\\lib\\site-packages\\ipykernel\\__main__.py:6: FutureWarning: irow(i) is deprecated. Please use .iloc[i]\n"
     ]
    },
    {
     "data": {
      "text/plain": [
       "'setosa'"
      ]
     },
     "execution_count": 8,
     "metadata": {},
     "output_type": "execute_result"
    }
   ],
   "source": [
    "species = {'setosa':1,'versicolor':2,'virginica':3}\n",
    "\n",
    "sdf = [(species[df.irow(x).species],Vectors.sparse(4,[0,1,2,3],[df.irow(x).sepal_length,df.irow(x).sepal_width,\n",
    "                                     df.irow(x).petal_length,df.irow(x).petal_width])) for x in range(len(df))]\n",
    "\n",
    "df.irow(0).species"
   ]
  },
  {
   "cell_type": "code",
   "execution_count": 12,
   "metadata": {},
   "outputs": [
    {
     "data": {
      "text/plain": [
       "(1, SparseVector(4, {0: 5.1, 1: 3.5, 2: 1.4, 3: 0.2}))"
      ]
     },
     "execution_count": 12,
     "metadata": {},
     "output_type": "execute_result"
    }
   ],
   "source": [
    "sdf[0]"
   ]
  },
  {
   "cell_type": "code",
   "execution_count": 14,
   "metadata": {},
   "outputs": [],
   "source": [
    "data = sql.createDataFrame(sdf,schema=['label','features'])"
   ]
  },
  {
   "cell_type": "code",
   "execution_count": 15,
   "metadata": {},
   "outputs": [
    {
     "name": "stdout",
     "output_type": "stream",
     "text": [
      "+-----+--------------------+\n",
      "|label|            features|\n",
      "+-----+--------------------+\n",
      "|    1|(4,[0,1,2,3],[4.6...|\n",
      "|    1|(4,[0,1,2,3],[4.8...|\n",
      "|    1|(4,[0,1,2,3],[5.5...|\n",
      "|    1|(4,[0,1,2,3],[4.4...|\n",
      "|    2|(4,[0,1,2,3],[6.9...|\n",
      "|    2|(4,[0,1,2,3],[5.9...|\n",
      "|    2|(4,[0,1,2,3],[6.2...|\n",
      "|    2|(4,[0,1,2,3],[6.0...|\n",
      "|    2|(4,[0,1,2,3],[6.3...|\n",
      "|    3|(4,[0,1,2,3],[6.5...|\n",
      "|    3|(4,[0,1,2,3],[6.4...|\n",
      "|    3|(4,[0,1,2,3],[6.4...|\n",
      "+-----+--------------------+\n",
      "\n"
     ]
    }
   ],
   "source": [
    "data.sample(False,0.1).show()"
   ]
  },
  {
   "cell_type": "code",
   "execution_count": 16,
   "metadata": {},
   "outputs": [],
   "source": [
    "ln = LinearRegression()"
   ]
  },
  {
   "cell_type": "code",
   "execution_count": 17,
   "metadata": {},
   "outputs": [],
   "source": [
    "lr = ln.fit(data)"
   ]
  },
  {
   "cell_type": "code",
   "execution_count": 18,
   "metadata": {},
   "outputs": [
    {
     "name": "stdout",
     "output_type": "stream",
     "text": [
      "+--------------------+\n",
      "|           residuals|\n",
      "+--------------------+\n",
      "| 0.08265827249444202|\n",
      "|  0.0385897564770008|\n",
      "| 0.04818969137910112|\n",
      "|-0.01260877605635...|\n",
      "|  0.0761081708368967|\n",
      "| -0.0568023484254212|\n",
      "|-0.03762591579550...|\n",
      "| 0.04455994327617674|\n",
      "|-0.02070501984131...|\n",
      "| 0.08130307490321231|\n",
      "| 0.10172866260870894|\n",
      "|-8.84875996338685...|\n",
      "|  0.0886050221193293|\n",
      "| 0.10183470512435377|\n",
      "| 0.22699779659281427|\n",
      "|0.043640590355711995|\n",
      "| 0.03399820444334323|\n",
      "|  0.0216688605228037|\n",
      "| 0.03268545786238197|\n",
      "|0.012240856320905547|\n",
      "+--------------------+\n",
      "only showing top 20 rows\n",
      "\n"
     ]
    }
   ],
   "source": [
    "lr.summary.residuals.show()"
   ]
  },
  {
   "cell_type": "code",
   "execution_count": 19,
   "metadata": {},
   "outputs": [
    {
     "data": {
      "text/plain": [
       "[Row(label=1, features=SparseVector(4, {0: 5.4, 1: 3.9, 2: 1.7, 3: 0.4}), prediction=1.0568023484254212),\n",
       " Row(label=1, features=SparseVector(4, {0: 5.0, 1: 3.0, 2: 1.6, 3: 0.2}), prediction=0.9958363736280718),\n",
       " Row(label=1, features=SparseVector(4, {0: 4.4, 1: 3.0, 2: 1.3, 3: 0.2}), prediction=0.9935808369523569),\n",
       " Row(label=1, features=SparseVector(4, {0: 5.0, 1: 3.5, 2: 1.3, 3: 0.3}), prediction=0.9666051475893149),\n",
       " Row(label=1, features=SparseVector(4, {0: 4.6, 1: 3.2, 2: 1.4, 3: 0.2}), prediction=0.9854845931673999),\n",
       " Row(label=2, features=SparseVector(4, {0: 6.4, 1: 3.2, 2: 4.5, 3: 1.5}), prediction=2.2845165996040464),\n",
       " Row(label=2, features=SparseVector(4, {0: 6.0, 1: 2.7, 2: 5.1, 3: 1.6}), prediction=2.547723649554892),\n",
       " Row(label=2, features=SparseVector(4, {0: 5.1, 1: 2.5, 2: 3.0, 3: 1.1}), prediction=1.8736890934430042),\n",
       " Row(label=3, features=SparseVector(4, {0: 6.3, 1: 3.3, 2: 6.0, 3: 2.5}), prediction=3.241462894235842),\n",
       " Row(label=3, features=SparseVector(4, {0: 5.8, 1: 2.7, 2: 5.1, 3: 1.9}), prediction=2.752640178128427),\n",
       " Row(label=3, features=SparseVector(4, {0: 7.6, 1: 3.0, 2: 6.6, 3: 2.1}), prediction=3.0043143073867014),\n",
       " Row(label=3, features=SparseVector(4, {0: 6.4, 1: 2.7, 2: 5.3, 3: 1.9}), prediction=2.7321955765869506),\n",
       " Row(label=3, features=SparseVector(4, {0: 6.3, 1: 2.7, 2: 4.9, 3: 1.8}), prediction=2.5913797580758575)]"
      ]
     },
     "execution_count": 19,
     "metadata": {},
     "output_type": "execute_result"
    }
   ],
   "source": [
    "res = lr.evaluate(data.sample(False,0.1))\n",
    "res.predictions.collect()"
   ]
  }
 ],
 "metadata": {
  "kernelspec": {
   "display_name": "Python 2",
   "language": "python",
   "name": "python2"
  },
  "language_info": {
   "codemirror_mode": {
    "name": "ipython",
    "version": 2
   },
   "file_extension": ".py",
   "mimetype": "text/x-python",
   "name": "python",
   "nbconvert_exporter": "python",
   "pygments_lexer": "ipython2",
   "version": "2.7.11"
  }
 },
 "nbformat": 4,
 "nbformat_minor": 2
}
