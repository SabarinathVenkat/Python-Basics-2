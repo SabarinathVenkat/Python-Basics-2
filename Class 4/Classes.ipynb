{
 "cells": [
  {
   "cell_type": "code",
   "execution_count": 1,
   "metadata": {},
   "outputs": [],
   "source": [
    "class empty_class:\n",
    "    pass"
   ]
  },
  {
   "cell_type": "code",
   "execution_count": 9,
   "metadata": {},
   "outputs": [],
   "source": [
    "a = empty_class()"
   ]
  },
  {
   "cell_type": "code",
   "execution_count": 17,
   "metadata": {
    "collapsed": false
   },
   "outputs": [
    {
     "name": "stdout",
     "output_type": "stream",
     "text": [
      "Object initialized\n",
      "1000\n",
      "Object initialized\n",
      "2000\n"
     ]
    }
   ],
   "source": [
    "# Lets define a simple class\n",
    "\n",
    "class first_class1(object): # Creating an empty class\n",
    "    \"\"\"\n",
    "    This is a test class\n",
    "    \"\"\"\n",
    "    \n",
    "    def __init__(self, a=1000):\n",
    "        self.a = a\n",
    "        print \"Object initialized\"\n",
    "        \n",
    "\n",
    "\n",
    "obj1 = first_class1()\n",
    "print obj1.a\n",
    "obj2 = first_class1(2000)\n",
    "print obj2.a"
   ]
  },
  {
   "cell_type": "code",
   "execution_count": 20,
   "metadata": {
    "collapsed": false
   },
   "outputs": [
    {
     "name": "stdout",
     "output_type": "stream",
     "text": [
      "10\n",
      "Class instantiated\n",
      "Class instantiated\n",
      "(10, 42) (10, 100)\n",
      "100 100\n"
     ]
    }
   ],
   "source": [
    "class not_so_empty:\n",
    "    \n",
    "    a = 10 # This is a class variable and is common for all instances\n",
    "    \n",
    "    def __init__(self,param1=42):  # this is the constructor\n",
    "        print \"Class instantiated\"\n",
    "        self.b = param1 \n",
    "\n",
    "        \n",
    "print not_so_empty.a  # Access a class variable without an object\n",
    "#print not_so_empty.b \n",
    "\n",
    "obj1 = not_so_empty()\n",
    "obj2 = not_so_empty(100)\n",
    "print (obj1.a,obj1.b) , (obj2.a,obj2.b)\n",
    "\n",
    "not_so_empty.dean = 100\n",
    "print obj1.dean,obj2.dean"
   ]
  },
  {
   "cell_type": "code",
   "execution_count": 22,
   "metadata": {
    "collapsed": false
   },
   "outputs": [
    {
     "name": "stdout",
     "output_type": "stream",
     "text": [
      "Class instantiated\n",
      "100 100 100 What?\n"
     ]
    },
    {
     "data": {
      "text/plain": [
       "['__doc__', '__init__', '__module__', 'a', 'dean', 'g']"
      ]
     },
     "execution_count": 22,
     "metadata": {},
     "output_type": "execute_result"
    }
   ],
   "source": [
    "# You can create new instance/class variables on the fly\n",
    "\n",
    "obj2.p = 'What?'  # This only belongs to Obj2\n",
    "\n",
    "not_so_empty.g = 100 # This is automatically available for all objects obj1, 2 and 3\n",
    "\n",
    "obj3 = not_so_empty()\n",
    "\n",
    "print obj1.g, obj2.g, obj3.g,obj2.p\n",
    "dir(not_so_empty)"
   ]
  },
  {
   "cell_type": "code",
   "execution_count": 23,
   "metadata": {
    "collapsed": true
   },
   "outputs": [],
   "source": [
    "# Methods are functions inside a class\n",
    "\n",
    "class fun_math:\n",
    "    def __init__(self,char='*'):\n",
    "        self.char = char\n",
    "    \n",
    "    def add(self,a,b):\n",
    "        return self.char * (a+b)\n",
    "    \n",
    "    @staticmethod\n",
    "    def static_add(a,b):\n",
    "            return '*' * (a+b)"
   ]
  },
  {
   "cell_type": "code",
   "execution_count": 24,
   "metadata": {
    "collapsed": false
   },
   "outputs": [
    {
     "name": "stdout",
     "output_type": "stream",
     "text": [
      "*******\n",
      "88888\n"
     ]
    }
   ],
   "source": [
    "#print fun_math.add(2,1)\n",
    "print fun_math.static_add(2,5)\n",
    "print fun_math('8').add(4,1)\n",
    "\n",
    "a = fun_math('#')"
   ]
  },
  {
   "cell_type": "code",
   "execution_count": 25,
   "metadata": {
    "collapsed": false
   },
   "outputs": [
    {
     "data": {
      "text/plain": [
       "'*****'"
      ]
     },
     "execution_count": 25,
     "metadata": {},
     "output_type": "execute_result"
    }
   ],
   "source": [
    "a.static_add(2,3)"
   ]
  },
  {
   "cell_type": "code",
   "execution_count": 43,
   "metadata": {
    "collapsed": true
   },
   "outputs": [],
   "source": [
    "class super_secret:\n",
    "    \"\"\"\n",
    "    This is a super secret Class of Spies!!!!\n",
    "    \"\"\"\n",
    "    _var1 = \"Hello\"\n",
    "    def __init__(self):\n",
    "        self.__secret_value = '42'\n",
    "    \n",
    "    def _prtected_fun(self):\n",
    "        print \"Hello\"\n",
    "        \n",
    "    def __secret_fun(self):\n",
    "        return \"Answer to the Ultimate Question of Life, The Universe, and Everything is \" + self.__secret_value\n",
    "        \n",
    "    def the_question(self):\n",
    "        print \"What is the ultimate question?\"\n",
    "    def add(self,a,b):\n",
    "        return a+b\n",
    "    \n",
    "    def the_answer(self):\n",
    "        print self.__secret_fun()"
   ]
  },
  {
   "cell_type": "code",
   "execution_count": 41,
   "metadata": {
    "collapsed": false
   },
   "outputs": [
    {
     "name": "stdout",
     "output_type": "stream",
     "text": [
      "What is the ultimate question?\n",
      "Answer to the Ultimate Question of Life, The Universe, and Everything is 42\n"
     ]
    }
   ],
   "source": [
    "obj6 = super_secret()\n",
    "obj6.the_question()\n",
    "#obj6.__secret_fun()\n",
    "#print obj6._super_secret__secret_fun()\n",
    "obj6.the_answer()"
   ]
  },
  {
   "cell_type": "code",
   "execution_count": 47,
   "metadata": {},
   "outputs": [],
   "source": [
    "class Derived(fun_math,super_secret):\n",
    "    pass"
   ]
  },
  {
   "cell_type": "code",
   "execution_count": 48,
   "metadata": {},
   "outputs": [
    {
     "data": {
      "text/plain": [
       "'*****'"
      ]
     },
     "execution_count": 48,
     "metadata": {},
     "output_type": "execute_result"
    }
   ],
   "source": [
    "o = Derived()\n",
    "o.add(2,3)"
   ]
  },
  {
   "cell_type": "markdown",
   "metadata": {},
   "source": [
    "### Multiple Inheritence"
   ]
  },
  {
   "cell_type": "code",
   "execution_count": 73,
   "metadata": {
    "collapsed": true
   },
   "outputs": [],
   "source": [
    "class participants:\n",
    "    def __init__(self,name,age):\n",
    "        self.name = name\n",
    "        self.age = age\n",
    "    \n",
    "    def __ge__(self,cls):\n",
    "        return self.age > cls.age\n",
    "    \n",
    "    def __add__(self,cls):\n",
    "        return (self.name,self.age),(cls.name,cls.age)"
   ]
  },
  {
   "cell_type": "code",
   "execution_count": 74,
   "metadata": {
    "collapsed": false
   },
   "outputs": [
    {
     "name": "stdout",
     "output_type": "stream",
     "text": [
      "False\n"
     ]
    },
    {
     "data": {
      "text/plain": [
       "True"
      ]
     },
     "execution_count": 74,
     "metadata": {},
     "output_type": "execute_result"
    }
   ],
   "source": [
    "obj1 = participants('Ganesh',35)\n",
    "obj2 = participants('Ravi',67)\n",
    "print obj2 > obj1\n",
    "obj2.__ge__(obj1)"
   ]
  },
  {
   "cell_type": "code",
   "execution_count": 75,
   "metadata": {
    "collapsed": false
   },
   "outputs": [
    {
     "data": {
      "text/plain": [
       "(('Ganesh', 35), ('Ravi', 67))"
      ]
     },
     "execution_count": 75,
     "metadata": {},
     "output_type": "execute_result"
    }
   ],
   "source": [
    "obj1+obj2"
   ]
  },
  {
   "cell_type": "code",
   "execution_count": 79,
   "metadata": {
    "collapsed": false
   },
   "outputs": [
    {
     "name": "stdout",
     "output_type": "stream",
     "text": [
      "<__main__.participants instance at 0x00000000043CD088>\n"
     ]
    }
   ],
   "source": [
    "print obj1"
   ]
  },
  {
   "cell_type": "code",
   "execution_count": 82,
   "metadata": {
    "collapsed": false
   },
   "outputs": [],
   "source": [
    "# But what if you want a vector addition rather than list concatenation?\n",
    "\n",
    "class Vector:\n",
    "    def __init__(self,vec):\n",
    "        self.vec = vec\n",
    "    \n",
    "    def __add__(self,other_obj):\n",
    "        assert len(self.vec) == len(other_obj.vec), \"Vectors must be of equal length for adding!!\"\n",
    "        return Vector([self.vec[i]+other_obj.vec[i] for i in range(len(self.vec))])\n",
    "    \n",
    "    def __sub__(self,other_obj):\n",
    "        assert len(self.vec) == len(other_obj.vec), \"Vectors must be of equal length for adding!!\"\n",
    "        return Vector([self.vec[i]-other_obj.vec[i] for i in range(len(self.vec))])\n",
    "    \n",
    "    \n",
    "    def __len__(self):\n",
    "        return len(self.vec)\n",
    "    def __repr__(self):\n",
    "        return str(self.vec)"
   ]
  },
  {
   "cell_type": "code",
   "execution_count": 88,
   "metadata": {
    "collapsed": false
   },
   "outputs": [
    {
     "name": "stdout",
     "output_type": "stream",
     "text": [
      "3\n"
     ]
    }
   ],
   "source": [
    "v1 = Vector([1,2,3])\n",
    "v2 = Vector([5,4,3])\n",
    "v3 = v1 + v2\n",
    "\n",
    "print len(v3)"
   ]
  },
  {
   "cell_type": "code",
   "execution_count": 85,
   "metadata": {
    "collapsed": false
   },
   "outputs": [
    {
     "data": {
      "text/plain": [
       "['ArithmeticError',\n",
       " 'AssertionError',\n",
       " 'AttributeError',\n",
       " 'BaseException',\n",
       " 'BufferError',\n",
       " 'BytesWarning',\n",
       " 'DeprecationWarning',\n",
       " 'EOFError',\n",
       " 'Ellipsis',\n",
       " 'EnvironmentError',\n",
       " 'Exception',\n",
       " 'False',\n",
       " 'FloatingPointError',\n",
       " 'FutureWarning',\n",
       " 'GeneratorExit',\n",
       " 'IOError',\n",
       " 'ImportError',\n",
       " 'ImportWarning',\n",
       " 'IndentationError',\n",
       " 'IndexError',\n",
       " 'KeyError',\n",
       " 'KeyboardInterrupt',\n",
       " 'LookupError',\n",
       " 'MemoryError',\n",
       " 'NameError',\n",
       " 'None',\n",
       " 'NotImplemented',\n",
       " 'NotImplementedError',\n",
       " 'OSError',\n",
       " 'OverflowError',\n",
       " 'PendingDeprecationWarning',\n",
       " 'ReferenceError',\n",
       " 'RuntimeError',\n",
       " 'RuntimeWarning',\n",
       " 'StandardError',\n",
       " 'StopIteration',\n",
       " 'SyntaxError',\n",
       " 'SyntaxWarning',\n",
       " 'SystemError',\n",
       " 'SystemExit',\n",
       " 'TabError',\n",
       " 'True',\n",
       " 'TypeError',\n",
       " 'UnboundLocalError',\n",
       " 'UnicodeDecodeError',\n",
       " 'UnicodeEncodeError',\n",
       " 'UnicodeError',\n",
       " 'UnicodeTranslateError',\n",
       " 'UnicodeWarning',\n",
       " 'UserWarning',\n",
       " 'ValueError',\n",
       " 'Warning',\n",
       " 'WindowsError',\n",
       " 'ZeroDivisionError',\n",
       " '__IPYTHON__',\n",
       " '__IPYTHON__active',\n",
       " '__debug__',\n",
       " '__doc__',\n",
       " '__import__',\n",
       " '__name__',\n",
       " '__package__',\n",
       " 'abs',\n",
       " 'all',\n",
       " 'any',\n",
       " 'apply',\n",
       " 'basestring',\n",
       " 'bin',\n",
       " 'bool',\n",
       " 'buffer',\n",
       " 'bytearray',\n",
       " 'bytes',\n",
       " 'callable',\n",
       " 'chr',\n",
       " 'classmethod',\n",
       " 'cmp',\n",
       " 'coerce',\n",
       " 'compile',\n",
       " 'complex',\n",
       " 'copyright',\n",
       " 'credits',\n",
       " 'delattr',\n",
       " 'dict',\n",
       " 'dir',\n",
       " 'divmod',\n",
       " 'dreload',\n",
       " 'enumerate',\n",
       " 'eval',\n",
       " 'execfile',\n",
       " 'file',\n",
       " 'filter',\n",
       " 'float',\n",
       " 'format',\n",
       " 'frozenset',\n",
       " 'get_ipython',\n",
       " 'getattr',\n",
       " 'globals',\n",
       " 'hasattr',\n",
       " 'hash',\n",
       " 'help',\n",
       " 'hex',\n",
       " 'id',\n",
       " 'input',\n",
       " 'int',\n",
       " 'intern',\n",
       " 'isinstance',\n",
       " 'issubclass',\n",
       " 'iter',\n",
       " 'len',\n",
       " 'license',\n",
       " 'list',\n",
       " 'locals',\n",
       " 'long',\n",
       " 'map',\n",
       " 'max',\n",
       " 'memoryview',\n",
       " 'min',\n",
       " 'next',\n",
       " 'object',\n",
       " 'oct',\n",
       " 'open',\n",
       " 'ord',\n",
       " 'pow',\n",
       " 'print',\n",
       " 'property',\n",
       " 'range',\n",
       " 'raw_input',\n",
       " 'reduce',\n",
       " 'reload',\n",
       " 'repr',\n",
       " 'reversed',\n",
       " 'round',\n",
       " 'set',\n",
       " 'setattr',\n",
       " 'slice',\n",
       " 'sorted',\n",
       " 'staticmethod',\n",
       " 'str',\n",
       " 'sum',\n",
       " 'super',\n",
       " 'tuple',\n",
       " 'type',\n",
       " 'unichr',\n",
       " 'unicode',\n",
       " 'vars',\n",
       " 'xrange',\n",
       " 'zip']"
      ]
     },
     "execution_count": 85,
     "metadata": {},
     "output_type": "execute_result"
    }
   ],
   "source": []
  }
 ],
 "metadata": {
  "kernelspec": {
   "display_name": "Python 2",
   "language": "python",
   "name": "python2"
  },
  "language_info": {
   "codemirror_mode": {
    "name": "ipython",
    "version": 2
   },
   "file_extension": ".py",
   "mimetype": "text/x-python",
   "name": "python",
   "nbconvert_exporter": "python",
   "pygments_lexer": "ipython2",
   "version": "2.7.11"
  }
 },
 "nbformat": 4,
 "nbformat_minor": 2
}
