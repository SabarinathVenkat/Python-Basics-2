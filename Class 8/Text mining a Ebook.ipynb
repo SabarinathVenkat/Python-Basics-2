{
 "cells": [
  {
   "cell_type": "code",
   "execution_count": 1,
   "metadata": {},
   "outputs": [],
   "source": [
    "from sklearn.feature_extraction.text import TfidfTransformer,TfidfVectorizer,CountVectorizer\n"
   ]
  },
  {
   "cell_type": "code",
   "execution_count": 2,
   "metadata": {},
   "outputs": [],
   "source": [
    "data = open('Flatland_djvu.txt','r').read()\n",
    "data2 = open('Relativity.txt','r').read()\n",
    "data3 = open('Maxwells.txt','r').read()"
   ]
  },
  {
   "cell_type": "code",
   "execution_count": 3,
   "metadata": {},
   "outputs": [
    {
     "data": {
      "text/plain": [
       "[u'einstein',\n",
       " u'gutenberg',\n",
       " u'light',\n",
       " u'project',\n",
       " u'science',\n",
       " u'scientific',\n",
       " u'theory',\n",
       " u'tm',\n",
       " u'work',\n",
       " u'works']"
      ]
     },
     "execution_count": 3,
     "metadata": {},
     "output_type": "execute_result"
    }
   ],
   "source": [
    "clf = TfidfVectorizer(stop_words='english',max_features=10)\n",
    "clf.fit_transform([data2,data3])\n",
    "clf.get_feature_names()"
   ]
  },
  {
   "cell_type": "code",
   "execution_count": 4,
   "metadata": {},
   "outputs": [
    {
     "data": {
      "text/plain": [
       "[u'einstein',\n",
       " u'gravitation',\n",
       " u'gutenberg',\n",
       " u'light',\n",
       " u'project',\n",
       " u'sun',\n",
       " u'theory',\n",
       " u'tm',\n",
       " u'work',\n",
       " u'works']"
      ]
     },
     "execution_count": 4,
     "metadata": {},
     "output_type": "execute_result"
    }
   ],
   "source": [
    "clf1 = CountVectorizer(stop_words='english',max_features=10)\n",
    "clf1.fit_transform([data2])\n",
    "clf1.get_feature_names()"
   ]
  },
  {
   "cell_type": "code",
   "execution_count": null,
   "metadata": {},
   "outputs": [],
   "source": []
  },
  {
   "cell_type": "code",
   "execution_count": 13,
   "metadata": {},
   "outputs": [
    {
     "name": "stdout",
     "output_type": "stream",
     "text": [
      "  (0, 9)\t0.168139198606\n",
      "  (0, 8)\t0.267971847778\n",
      "  (0, 7)\t0.299497947516\n",
      "  (0, 6)\t0.357295797037\n",
      "  (0, 5)\t0.0315260997386\n",
      "  (0, 4)\t0.036780449695\n",
      "  (0, 3)\t0.457128446209\n",
      "  (0, 2)\t0.14712179878\n",
      "  (0, 1)\t0.509671945774\n",
      "  (0, 0)\t0.435703526243\n",
      "\n",
      "  (0, 9)\t0.178409658197\n",
      "  (0, 8)\t0.346006609837\n",
      "  (0, 7)\t0.308162136886\n",
      "  (0, 6)\t0.183816011476\n",
      "  (0, 5)\t0.275724017214\n",
      "  (0, 4)\t0.378444729509\n",
      "  (0, 3)\t0.475759088526\n",
      "  (0, 2)\t0.145971538525\n",
      "  (0, 1)\t0.502790854919\n"
     ]
    }
   ],
   "source": [
    "print clf.transform([data2])\n",
    "print \n",
    "print clf.transform([data3])"
   ]
  }
 ],
 "metadata": {
  "kernelspec": {
   "display_name": "Python 2",
   "language": "python",
   "name": "python2"
  },
  "language_info": {
   "codemirror_mode": {
    "name": "ipython",
    "version": 2
   },
   "file_extension": ".py",
   "mimetype": "text/x-python",
   "name": "python",
   "nbconvert_exporter": "python",
   "pygments_lexer": "ipython2",
   "version": "2.7.11"
  }
 },
 "nbformat": 4,
 "nbformat_minor": 2
}
