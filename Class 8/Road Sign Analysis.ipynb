{
 "cells": [
  {
   "cell_type": "code",
   "execution_count": 1,
   "metadata": {},
   "outputs": [],
   "source": [
    "import pandas as pd\n",
    "import pydot\n",
    "from IPython.display import Image\n",
    "from sklearn.cross_validation import train_test_split\n",
    "from sklearn.ensemble import RandomForestClassifier \n",
    "from sklearn.linear_model import LogisticRegression\n",
    "from sklearn.tree import DecisionTreeClassifier\n",
    "from sklearn.tree import export_graphviz"
   ]
  },
  {
   "cell_type": "code",
   "execution_count": 2,
   "metadata": {},
   "outputs": [],
   "source": [
    "train_data = pd.read_csv(r\"roadsign.csv\")"
   ]
  },
  {
   "cell_type": "code",
   "execution_count": 3,
   "metadata": {},
   "outputs": [],
   "source": [
    "train_data.rename(columns={'SignFacing (Target)':'Target'}, inplace=True)"
   ]
  },
  {
   "cell_type": "code",
   "execution_count": 4,
   "metadata": {},
   "outputs": [
    {
     "data": {
      "text/html": [
       "<div>\n",
       "<table border=\"1\" class=\"dataframe\">\n",
       "  <thead>\n",
       "    <tr style=\"text-align: right;\">\n",
       "      <th></th>\n",
       "      <th>AngleOfSign</th>\n",
       "      <th>SignAspectRatio</th>\n",
       "      <th>SignWidth</th>\n",
       "      <th>SignHeight</th>\n",
       "    </tr>\n",
       "  </thead>\n",
       "  <tbody>\n",
       "    <tr>\n",
       "      <th>AngleOfSign</th>\n",
       "      <td>1.000000</td>\n",
       "      <td>-0.128920</td>\n",
       "      <td>-0.404556</td>\n",
       "      <td>-0.370523</td>\n",
       "    </tr>\n",
       "    <tr>\n",
       "      <th>SignAspectRatio</th>\n",
       "      <td>-0.128920</td>\n",
       "      <td>1.000000</td>\n",
       "      <td>0.333994</td>\n",
       "      <td>-0.140804</td>\n",
       "    </tr>\n",
       "    <tr>\n",
       "      <th>SignWidth</th>\n",
       "      <td>-0.404556</td>\n",
       "      <td>0.333994</td>\n",
       "      <td>1.000000</td>\n",
       "      <td>0.856428</td>\n",
       "    </tr>\n",
       "    <tr>\n",
       "      <th>SignHeight</th>\n",
       "      <td>-0.370523</td>\n",
       "      <td>-0.140804</td>\n",
       "      <td>0.856428</td>\n",
       "      <td>1.000000</td>\n",
       "    </tr>\n",
       "  </tbody>\n",
       "</table>\n",
       "</div>"
      ],
      "text/plain": [
       "                 AngleOfSign  SignAspectRatio  SignWidth  SignHeight\n",
       "AngleOfSign         1.000000        -0.128920  -0.404556   -0.370523\n",
       "SignAspectRatio    -0.128920         1.000000   0.333994   -0.140804\n",
       "SignWidth          -0.404556         0.333994   1.000000    0.856428\n",
       "SignHeight         -0.370523        -0.140804   0.856428    1.000000"
      ]
     },
     "execution_count": 4,
     "metadata": {},
     "output_type": "execute_result"
    }
   ],
   "source": [
    "train_data.corr()"
   ]
  },
  {
   "cell_type": "code",
   "execution_count": 5,
   "metadata": {},
   "outputs": [],
   "source": [
    "from sklearn.preprocessing import LabelEncoder\n",
    "Cam = LabelEncoder()\n",
    "train_data['DetectedCamera'] = Cam.fit_transform(train_data['DetectedCamera'])\n",
    "\n",
    "Target = LabelEncoder()\n",
    "train_data['Target'] = Target.fit_transform(train_data['Target'])\n"
   ]
  },
  {
   "cell_type": "code",
   "execution_count": 6,
   "metadata": {},
   "outputs": [],
   "source": [
    "labels = train_data['Target']\n",
    "features = train_data[['DetectedCamera', 'AngleOfSign', 'SignAspectRatio','SignWidth', 'SignHeight']]"
   ]
  },
  {
   "cell_type": "code",
   "execution_count": 8,
   "metadata": {},
   "outputs": [],
   "source": [
    "train_features,test_features,train_labels,test_labels = train_test_split(features,labels)"
   ]
  },
  {
   "cell_type": "code",
   "execution_count": 32,
   "metadata": {},
   "outputs": [
    {
     "data": {
      "text/plain": [
       "DecisionTreeClassifier(class_weight=None, criterion='gini', max_depth=4,\n",
       "            max_features=None, max_leaf_nodes=10, min_samples_leaf=1,\n",
       "            min_samples_split=2, min_weight_fraction_leaf=0.0,\n",
       "            presort=False, random_state=None, splitter='best')"
      ]
     },
     "execution_count": 32,
     "metadata": {},
     "output_type": "execute_result"
    }
   ],
   "source": [
    "dt = DecisionTreeClassifier(max_depth = 4, max_leaf_nodes=10)\n",
    "dt.fit(features,labels)"
   ]
  },
  {
   "cell_type": "code",
   "execution_count": 43,
   "metadata": {},
   "outputs": [
    {
     "data": {
      "text/plain": [
       "0.95946472651682468"
      ]
     },
     "execution_count": 43,
     "metadata": {},
     "output_type": "execute_result"
    }
   ],
   "source": [
    "dt.score(features,labels)"
   ]
  },
  {
   "cell_type": "code",
   "execution_count": 37,
   "metadata": {},
   "outputs": [],
   "source": [
    "export_graphviz(dt,'tree.dot')\n",
    "gr = pydot.graph_from_dot_file('tree.dot')[0]\n",
    "with open('tree.jpg','wb') as f:\n",
    "    f.write(gr.create_jpeg())"
   ]
  },
  {
   "cell_type": "code",
   "execution_count": 39,
   "metadata": {},
   "outputs": [],
   "source": [
    "with open('tree.jpg','wb') as f:\n",
    "    f.write(gr.create_jpeg())"
   ]
  },
  {
   "cell_type": "code",
   "execution_count": 44,
   "metadata": {},
   "outputs": [
    {
     "data": {
      "text/plain": [
       "0.95572646019538554"
      ]
     },
     "execution_count": 44,
     "metadata": {},
     "output_type": "execute_result"
    }
   ],
   "source": [
    "clf = RandomForestClassifier(n_estimators=500,n_jobs=4)\n",
    "clf.fit(train_features,train_labels)\n",
    "clf.score(test_features,test_labels)"
   ]
  },
  {
   "cell_type": "code",
   "execution_count": 42,
   "metadata": {},
   "outputs": [
    {
     "data": {
      "text/plain": [
       "array([[ 0.,  0.,  1.,  0.],\n",
       "       [ 0.,  0.,  1.,  0.],\n",
       "       [ 0.,  0.,  1.,  0.],\n",
       "       ..., \n",
       "       [ 0.,  0.,  1.,  0.],\n",
       "       [ 1.,  0.,  0.,  0.],\n",
       "       [ 1.,  0.,  0.,  0.]])"
      ]
     },
     "execution_count": 42,
     "metadata": {},
     "output_type": "execute_result"
    }
   ],
   "source": [
    "clf.predict_proba(test_features)"
   ]
  }
 ],
 "metadata": {
  "kernelspec": {
   "display_name": "Python 2",
   "language": "python",
   "name": "python2"
  },
  "language_info": {
   "codemirror_mode": {
    "name": "ipython",
    "version": 2
   },
   "file_extension": ".py",
   "mimetype": "text/x-python",
   "name": "python",
   "nbconvert_exporter": "python",
   "pygments_lexer": "ipython2",
   "version": "2.7.11"
  }
 },
 "nbformat": 4,
 "nbformat_minor": 2
}
