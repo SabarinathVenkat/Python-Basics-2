{
 "cells": [
  {
   "cell_type": "code",
   "execution_count": 1,
   "metadata": {},
   "outputs": [],
   "source": [
    "import pandas as pd"
   ]
  },
  {
   "cell_type": "code",
   "execution_count": 2,
   "metadata": {},
   "outputs": [],
   "source": [
    "google = pd.read_csv('http://netfondsbank.fi/quotes/posdump.php?paper=BEAR-GOOGLE-X3-C.NGM&csv_format=csv')\n",
    "apple = pd.read_csv('http://netfondsbank.fi/quotes/posdump.php?paper=BEAR-APPLE-X3-C.NGM&csv_format=csv')"
   ]
  },
  {
   "cell_type": "code",
   "execution_count": 4,
   "metadata": {},
   "outputs": [],
   "source": [
    "from datetime import datetime\n",
    "google.index = [datetime.strptime(x,'%Y%m%dT%H%M%S') for x in google.time]\n",
    "apple.index = [datetime.strptime(x,'%Y%m%dT%H%M%S') for x in apple.time]\n",
    "google.drop('time',inplace=True,axis=1)\n",
    "apple.drop('time',axis=1,inplace=True)"
   ]
  },
  {
   "cell_type": "code",
   "execution_count": 7,
   "metadata": {},
   "outputs": [
    {
     "data": {
      "text/html": [
       "<div>\n",
       "<table border=\"1\" class=\"dataframe\">\n",
       "  <thead>\n",
       "    <tr style=\"text-align: right;\">\n",
       "      <th></th>\n",
       "      <th>bid</th>\n",
       "      <th>bid_depth</th>\n",
       "      <th>bid_depth_total</th>\n",
       "      <th>offer</th>\n",
       "      <th>offer_depth</th>\n",
       "      <th>offer_depth_total</th>\n",
       "    </tr>\n",
       "  </thead>\n",
       "  <tbody>\n",
       "    <tr>\n",
       "      <th>2017-08-11 08:00:00</th>\n",
       "      <td>0.000</td>\n",
       "      <td>0</td>\n",
       "      <td>0</td>\n",
       "      <td>0.00</td>\n",
       "      <td>0</td>\n",
       "      <td>0</td>\n",
       "    </tr>\n",
       "    <tr>\n",
       "      <th>2017-08-11 08:00:00</th>\n",
       "      <td>0.000</td>\n",
       "      <td>0</td>\n",
       "      <td>0</td>\n",
       "      <td>0.04</td>\n",
       "      <td>46800</td>\n",
       "      <td>46800</td>\n",
       "    </tr>\n",
       "    <tr>\n",
       "      <th>2017-08-11 09:00:49</th>\n",
       "      <td>0.016</td>\n",
       "      <td>10000</td>\n",
       "      <td>10000</td>\n",
       "      <td>0.04</td>\n",
       "      <td>46800</td>\n",
       "      <td>46800</td>\n",
       "    </tr>\n",
       "    <tr>\n",
       "      <th>2017-08-11 09:01:01</th>\n",
       "      <td>0.016</td>\n",
       "      <td>75000</td>\n",
       "      <td>75000</td>\n",
       "      <td>0.04</td>\n",
       "      <td>46800</td>\n",
       "      <td>46800</td>\n",
       "    </tr>\n",
       "    <tr>\n",
       "      <th>2017-08-11 09:08:09</th>\n",
       "      <td>0.009</td>\n",
       "      <td>75000</td>\n",
       "      <td>75000</td>\n",
       "      <td>0.04</td>\n",
       "      <td>46800</td>\n",
       "      <td>46800</td>\n",
       "    </tr>\n",
       "    <tr>\n",
       "      <th>2017-08-11 14:25:20</th>\n",
       "      <td>0.013</td>\n",
       "      <td>75000</td>\n",
       "      <td>75000</td>\n",
       "      <td>0.04</td>\n",
       "      <td>46800</td>\n",
       "      <td>46800</td>\n",
       "    </tr>\n",
       "    <tr>\n",
       "      <th>2017-08-11 15:30:00</th>\n",
       "      <td>0.021</td>\n",
       "      <td>75000</td>\n",
       "      <td>75000</td>\n",
       "      <td>0.04</td>\n",
       "      <td>46800</td>\n",
       "      <td>46800</td>\n",
       "    </tr>\n",
       "    <tr>\n",
       "      <th>2017-08-11 15:37:00</th>\n",
       "      <td>0.021</td>\n",
       "      <td>500000</td>\n",
       "      <td>500000</td>\n",
       "      <td>0.04</td>\n",
       "      <td>46800</td>\n",
       "      <td>46800</td>\n",
       "    </tr>\n",
       "  </tbody>\n",
       "</table>\n",
       "</div>"
      ],
      "text/plain": [
       "                       bid  bid_depth  bid_depth_total  offer  offer_depth  \\\n",
       "2017-08-11 08:00:00  0.000          0                0   0.00            0   \n",
       "2017-08-11 08:00:00  0.000          0                0   0.04        46800   \n",
       "2017-08-11 09:00:49  0.016      10000            10000   0.04        46800   \n",
       "2017-08-11 09:01:01  0.016      75000            75000   0.04        46800   \n",
       "2017-08-11 09:08:09  0.009      75000            75000   0.04        46800   \n",
       "2017-08-11 14:25:20  0.013      75000            75000   0.04        46800   \n",
       "2017-08-11 15:30:00  0.021      75000            75000   0.04        46800   \n",
       "2017-08-11 15:37:00  0.021     500000           500000   0.04        46800   \n",
       "\n",
       "                     offer_depth_total  \n",
       "2017-08-11 08:00:00                  0  \n",
       "2017-08-11 08:00:00              46800  \n",
       "2017-08-11 09:00:49              46800  \n",
       "2017-08-11 09:01:01              46800  \n",
       "2017-08-11 09:08:09              46800  \n",
       "2017-08-11 14:25:20              46800  \n",
       "2017-08-11 15:30:00              46800  \n",
       "2017-08-11 15:37:00              46800  "
      ]
     },
     "execution_count": 7,
     "metadata": {},
     "output_type": "execute_result"
    }
   ],
   "source": [
    "apple\n"
   ]
  },
  {
   "cell_type": "code",
   "execution_count": 8,
   "metadata": {},
   "outputs": [
    {
     "data": {
      "text/html": [
       "<div>\n",
       "<table border=\"1\" class=\"dataframe\">\n",
       "  <thead>\n",
       "    <tr style=\"text-align: right;\">\n",
       "      <th></th>\n",
       "      <th>bid</th>\n",
       "      <th>bid_depth</th>\n",
       "      <th>bid_depth_total</th>\n",
       "      <th>offer</th>\n",
       "      <th>offer_depth</th>\n",
       "      <th>offer_depth_total</th>\n",
       "    </tr>\n",
       "  </thead>\n",
       "  <tbody>\n",
       "    <tr>\n",
       "      <th>2017-08-11 08:00:00</th>\n",
       "      <td>0.000</td>\n",
       "      <td>0</td>\n",
       "      <td>0</td>\n",
       "      <td>0</td>\n",
       "      <td>0</td>\n",
       "      <td>0</td>\n",
       "    </tr>\n",
       "    <tr>\n",
       "      <th>2017-08-11 09:00:50</th>\n",
       "      <td>0.325</td>\n",
       "      <td>10000</td>\n",
       "      <td>10000</td>\n",
       "      <td>0</td>\n",
       "      <td>0</td>\n",
       "      <td>0</td>\n",
       "    </tr>\n",
       "    <tr>\n",
       "      <th>2017-08-11 09:01:00</th>\n",
       "      <td>0.325</td>\n",
       "      <td>75000</td>\n",
       "      <td>75000</td>\n",
       "      <td>0</td>\n",
       "      <td>0</td>\n",
       "      <td>0</td>\n",
       "    </tr>\n",
       "    <tr>\n",
       "      <th>2017-08-11 09:08:20</th>\n",
       "      <td>0.293</td>\n",
       "      <td>75000</td>\n",
       "      <td>75000</td>\n",
       "      <td>0</td>\n",
       "      <td>0</td>\n",
       "      <td>0</td>\n",
       "    </tr>\n",
       "    <tr>\n",
       "      <th>2017-08-11 15:33:52</th>\n",
       "      <td>0.320</td>\n",
       "      <td>75000</td>\n",
       "      <td>75000</td>\n",
       "      <td>0</td>\n",
       "      <td>0</td>\n",
       "      <td>0</td>\n",
       "    </tr>\n",
       "    <tr>\n",
       "      <th>2017-08-11 15:37:00</th>\n",
       "      <td>0.320</td>\n",
       "      <td>500000</td>\n",
       "      <td>500000</td>\n",
       "      <td>0</td>\n",
       "      <td>0</td>\n",
       "      <td>0</td>\n",
       "    </tr>\n",
       "  </tbody>\n",
       "</table>\n",
       "</div>"
      ],
      "text/plain": [
       "                       bid  bid_depth  bid_depth_total  offer  offer_depth  \\\n",
       "2017-08-11 08:00:00  0.000          0                0      0            0   \n",
       "2017-08-11 09:00:50  0.325      10000            10000      0            0   \n",
       "2017-08-11 09:01:00  0.325      75000            75000      0            0   \n",
       "2017-08-11 09:08:20  0.293      75000            75000      0            0   \n",
       "2017-08-11 15:33:52  0.320      75000            75000      0            0   \n",
       "2017-08-11 15:37:00  0.320     500000           500000      0            0   \n",
       "\n",
       "                     offer_depth_total  \n",
       "2017-08-11 08:00:00                  0  \n",
       "2017-08-11 09:00:50                  0  \n",
       "2017-08-11 09:01:00                  0  \n",
       "2017-08-11 09:08:20                  0  \n",
       "2017-08-11 15:33:52                  0  \n",
       "2017-08-11 15:37:00                  0  "
      ]
     },
     "execution_count": 8,
     "metadata": {},
     "output_type": "execute_result"
    }
   ],
   "source": [
    "google"
   ]
  },
  {
   "cell_type": "code",
   "execution_count": 11,
   "metadata": {},
   "outputs": [
    {
     "name": "stdout",
     "output_type": "stream",
     "text": [
      "                     bid_google  bid_apple\n",
      "2017-08-11 08:00:00       0.000      0.000\n",
      "2017-08-11 08:00:00       0.000      0.000\n",
      "2017-08-11 09:00:49       0.325      0.016\n",
      "2017-08-11 09:00:50       0.325      0.016\n",
      "2017-08-11 09:01:00       0.325      0.016\n",
      "2017-08-11 09:01:01       0.293      0.016\n",
      "2017-08-11 09:08:09       0.293      0.009\n",
      "2017-08-11 09:08:20       0.293      0.013\n",
      "2017-08-11 14:25:20       0.320      0.013\n",
      "2017-08-11 15:30:00       0.320      0.021\n",
      "2017-08-11 15:33:52       0.320      0.021\n",
      "2017-08-11 15:37:00       0.320      0.021\n"
     ]
    }
   ],
   "source": [
    "%matplotlib inline\n",
    "final_data = google.join(apple,lsuffix='_google',rsuffix='_apple',how='outer')[['bid_google','bid_apple']].fillna(method='backfill')\n",
    "print final_data"
   ]
  },
  {
   "cell_type": "code",
   "execution_count": 12,
   "metadata": {},
   "outputs": [
    {
     "data": {
      "text/plain": [
       "array([<matplotlib.axes._subplots.AxesSubplot object at 0x0000000008BFF7F0>,\n",
       "       <matplotlib.axes._subplots.AxesSubplot object at 0x0000000008DDF080>], dtype=object)"
      ]
     },
     "execution_count": 12,
     "metadata": {},
     "output_type": "execute_result"
    },
    {
     "data": {
      "image/png": "[encoded data removed]",
      "text/plain": [
       "<matplotlib.figure.Figure at 0x816f668>"
      ]
     },
     "metadata": {},
     "output_type": "display_data"
    }
   ],
   "source": [
    "final_data.plot(subplots=True)"
   ]
  },
  {
   "cell_type": "code",
   "execution_count": 41,
   "metadata": {},
   "outputs": [
    {
     "data": {
      "text/html": [
       "<div>\n",
       "<table border=\"1\" class=\"dataframe\">\n",
       "  <thead>\n",
       "    <tr style=\"text-align: right;\">\n",
       "      <th></th>\n",
       "      <th>quote_date</th>\n",
       "      <th>paper</th>\n",
       "      <th>exch</th>\n",
       "      <th>open</th>\n",
       "      <th>high</th>\n",
       "      <th>low</th>\n",
       "      <th>close</th>\n",
       "      <th>volume</th>\n",
       "      <th>value</th>\n",
       "    </tr>\n",
       "  </thead>\n",
       "  <tbody>\n",
       "    <tr>\n",
       "      <th>2017-08-11</th>\n",
       "      <td>20170811</td>\n",
       "      <td>E-SIED</td>\n",
       "      <td>BATS Europe</td>\n",
       "      <td>108.10</td>\n",
       "      <td>109.90</td>\n",
       "      <td>108.05</td>\n",
       "      <td>109.35</td>\n",
       "      <td>340554</td>\n",
       "      <td>37236564</td>\n",
       "    </tr>\n",
       "    <tr>\n",
       "      <th>2017-08-10</th>\n",
       "      <td>20170810</td>\n",
       "      <td>E-SIED</td>\n",
       "      <td>BATS Europe</td>\n",
       "      <td>110.40</td>\n",
       "      <td>110.45</td>\n",
       "      <td>108.50</td>\n",
       "      <td>108.65</td>\n",
       "      <td>380503</td>\n",
       "      <td>41601042</td>\n",
       "    </tr>\n",
       "    <tr>\n",
       "      <th>2017-08-09</th>\n",
       "      <td>20170809</td>\n",
       "      <td>E-SIED</td>\n",
       "      <td>BATS Europe</td>\n",
       "      <td>111.05</td>\n",
       "      <td>111.65</td>\n",
       "      <td>110.45</td>\n",
       "      <td>110.75</td>\n",
       "      <td>253863</td>\n",
       "      <td>28203624</td>\n",
       "    </tr>\n",
       "    <tr>\n",
       "      <th>2017-08-08</th>\n",
       "      <td>20170808</td>\n",
       "      <td>E-SIED</td>\n",
       "      <td>BATS Europe</td>\n",
       "      <td>111.35</td>\n",
       "      <td>112.50</td>\n",
       "      <td>110.90</td>\n",
       "      <td>112.05</td>\n",
       "      <td>269509</td>\n",
       "      <td>30112627</td>\n",
       "    </tr>\n",
       "    <tr>\n",
       "      <th>2017-08-07</th>\n",
       "      <td>20170807</td>\n",
       "      <td>E-SIED</td>\n",
       "      <td>BATS Europe</td>\n",
       "      <td>111.80</td>\n",
       "      <td>112.20</td>\n",
       "      <td>110.65</td>\n",
       "      <td>111.00</td>\n",
       "      <td>201132</td>\n",
       "      <td>22370947</td>\n",
       "    </tr>\n",
       "  </tbody>\n",
       "</table>\n",
       "</div>"
      ],
      "text/plain": [
       "            quote_date   paper         exch    open    high     low   close  \\\n",
       "2017-08-11    20170811  E-SIED  BATS Europe  108.10  109.90  108.05  109.35   \n",
       "2017-08-10    20170810  E-SIED  BATS Europe  110.40  110.45  108.50  108.65   \n",
       "2017-08-09    20170809  E-SIED  BATS Europe  111.05  111.65  110.45  110.75   \n",
       "2017-08-08    20170808  E-SIED  BATS Europe  111.35  112.50  110.90  112.05   \n",
       "2017-08-07    20170807  E-SIED  BATS Europe  111.80  112.20  110.65  111.00   \n",
       "\n",
       "            volume     value  \n",
       "2017-08-11  340554  37236564  \n",
       "2017-08-10  380503  41601042  \n",
       "2017-08-09  253863  28203624  \n",
       "2017-08-08  269509  30112627  \n",
       "2017-08-07  201132  22370947  "
      ]
     },
     "execution_count": 41,
     "metadata": {},
     "output_type": "execute_result"
    }
   ],
   "source": [
    "somestock = pd.read_csv('http://netfondsbank.fi/quotes/paperhistory.php?paper=E-SIED.BTSE&csv_format=csv')\n",
    "somestock.index = [datetime.strptime(str(x),'%Y%m%d') for x in somestock.quote_date]\n",
    "somestock.head()"
   ]
  },
  {
   "cell_type": "code",
   "execution_count": 14,
   "metadata": {},
   "outputs": [],
   "source": [
    "from sklearn.tree import DecisionTreeRegressor\n",
    "from sklearn.cross_validation import train_test_split\n",
    "clf = DecisionTreeRegressor()"
   ]
  },
  {
   "cell_type": "code",
   "execution_count": 17,
   "metadata": {},
   "outputs": [],
   "source": [
    "features,labels = somestock[somestock.columns.drop(['close','paper','exch'])],somestock['close']\n",
    "train_features,test_features,train_labels,test_labels = train_test_split(features,labels)"
   ]
  },
  {
   "cell_type": "code",
   "execution_count": 18,
   "metadata": {},
   "outputs": [
    {
     "data": {
      "text/plain": [
       "0.99639044636872864"
      ]
     },
     "execution_count": 18,
     "metadata": {},
     "output_type": "execute_result"
    }
   ],
   "source": [
    "clf.fit(train_features,train_labels)\n",
    "clf.score(test_features,test_labels)"
   ]
  },
  {
   "cell_type": "markdown",
   "metadata": {},
   "source": [
    "## Wow... a 99.7% accuracy, I must have been rich now!!!"
   ]
  },
  {
   "cell_type": "code",
   "execution_count": 20,
   "metadata": {},
   "outputs": [
    {
     "name": "stdout",
     "output_type": "stream",
     "text": [
      "                  Date         Open         High          Low        Close  \\\n",
      "2017-07-14  2017-07-14  1520.000000  1536.000000  1515.550049  1533.750000   \n",
      "2017-07-17  2017-07-17  1537.000000  1559.599976  1537.000000  1551.750000   \n",
      "2017-07-18  2017-07-18  1546.800049  1551.800049  1511.000000  1519.900024   \n",
      "2017-07-19  2017-07-19  1512.599976  1538.000000  1512.599976  1532.949951   \n",
      "2017-07-20  2017-07-20  1539.750000  1550.000000  1523.699951  1528.900024   \n",
      "\n",
      "              Adj Close   Volume  \n",
      "2017-07-14  1533.750000  4693011  \n",
      "2017-07-17  1551.750000  4285809  \n",
      "2017-07-18  1519.900024  4489412  \n",
      "2017-07-19  1532.949951  2695041  \n",
      "2017-07-20  1528.900024  3114686  \n"
     ]
    }
   ],
   "source": [
    "somestock = pd.read_csv('RELIANCE.NS.csv')\n",
    "somestock.index = [datetime.strptime(str(x),'%Y-%m-%d') for x in somestock.Date]\n",
    "print somestock.head()\n",
    "\n",
    "somestock['prev_close']= somestock.Close.shift()\n",
    "somestock['prev_open'] = somestock.Open.shift()\n",
    "somestock['prev_high'] = somestock.High.shift()\n",
    "somestock['prev_low'] = somestock.Low.shift()\n",
    "somestock.fillna(method='backfill',inplace=True)"
   ]
  },
  {
   "cell_type": "code",
   "execution_count": 21,
   "metadata": {},
   "outputs": [
    {
     "data": {
      "text/html": [
       "<div>\n",
       "<table border=\"1\" class=\"dataframe\">\n",
       "  <thead>\n",
       "    <tr style=\"text-align: right;\">\n",
       "      <th></th>\n",
       "      <th>Date</th>\n",
       "      <th>Open</th>\n",
       "      <th>High</th>\n",
       "      <th>Low</th>\n",
       "      <th>Close</th>\n",
       "      <th>Adj Close</th>\n",
       "      <th>Volume</th>\n",
       "      <th>prev_close</th>\n",
       "      <th>prev_open</th>\n",
       "      <th>prev_high</th>\n",
       "      <th>prev_low</th>\n",
       "    </tr>\n",
       "  </thead>\n",
       "  <tbody>\n",
       "    <tr>\n",
       "      <th>2017-07-14</th>\n",
       "      <td>2017-07-14</td>\n",
       "      <td>1520.000000</td>\n",
       "      <td>1536.000000</td>\n",
       "      <td>1515.550049</td>\n",
       "      <td>1533.750000</td>\n",
       "      <td>1533.750000</td>\n",
       "      <td>4693011</td>\n",
       "      <td>1533.750000</td>\n",
       "      <td>1520.000000</td>\n",
       "      <td>1536.000000</td>\n",
       "      <td>1515.550049</td>\n",
       "    </tr>\n",
       "    <tr>\n",
       "      <th>2017-07-17</th>\n",
       "      <td>2017-07-17</td>\n",
       "      <td>1537.000000</td>\n",
       "      <td>1559.599976</td>\n",
       "      <td>1537.000000</td>\n",
       "      <td>1551.750000</td>\n",
       "      <td>1551.750000</td>\n",
       "      <td>4285809</td>\n",
       "      <td>1533.750000</td>\n",
       "      <td>1520.000000</td>\n",
       "      <td>1536.000000</td>\n",
       "      <td>1515.550049</td>\n",
       "    </tr>\n",
       "    <tr>\n",
       "      <th>2017-07-18</th>\n",
       "      <td>2017-07-18</td>\n",
       "      <td>1546.800049</td>\n",
       "      <td>1551.800049</td>\n",
       "      <td>1511.000000</td>\n",
       "      <td>1519.900024</td>\n",
       "      <td>1519.900024</td>\n",
       "      <td>4489412</td>\n",
       "      <td>1551.750000</td>\n",
       "      <td>1537.000000</td>\n",
       "      <td>1559.599976</td>\n",
       "      <td>1537.000000</td>\n",
       "    </tr>\n",
       "    <tr>\n",
       "      <th>2017-07-19</th>\n",
       "      <td>2017-07-19</td>\n",
       "      <td>1512.599976</td>\n",
       "      <td>1538.000000</td>\n",
       "      <td>1512.599976</td>\n",
       "      <td>1532.949951</td>\n",
       "      <td>1532.949951</td>\n",
       "      <td>2695041</td>\n",
       "      <td>1519.900024</td>\n",
       "      <td>1546.800049</td>\n",
       "      <td>1551.800049</td>\n",
       "      <td>1511.000000</td>\n",
       "    </tr>\n",
       "    <tr>\n",
       "      <th>2017-07-20</th>\n",
       "      <td>2017-07-20</td>\n",
       "      <td>1539.750000</td>\n",
       "      <td>1550.000000</td>\n",
       "      <td>1523.699951</td>\n",
       "      <td>1528.900024</td>\n",
       "      <td>1528.900024</td>\n",
       "      <td>3114686</td>\n",
       "      <td>1532.949951</td>\n",
       "      <td>1512.599976</td>\n",
       "      <td>1538.000000</td>\n",
       "      <td>1512.599976</td>\n",
       "    </tr>\n",
       "  </tbody>\n",
       "</table>\n",
       "</div>"
      ],
      "text/plain": [
       "                  Date         Open         High          Low        Close  \\\n",
       "2017-07-14  2017-07-14  1520.000000  1536.000000  1515.550049  1533.750000   \n",
       "2017-07-17  2017-07-17  1537.000000  1559.599976  1537.000000  1551.750000   \n",
       "2017-07-18  2017-07-18  1546.800049  1551.800049  1511.000000  1519.900024   \n",
       "2017-07-19  2017-07-19  1512.599976  1538.000000  1512.599976  1532.949951   \n",
       "2017-07-20  2017-07-20  1539.750000  1550.000000  1523.699951  1528.900024   \n",
       "\n",
       "              Adj Close   Volume   prev_close    prev_open    prev_high  \\\n",
       "2017-07-14  1533.750000  4693011  1533.750000  1520.000000  1536.000000   \n",
       "2017-07-17  1551.750000  4285809  1533.750000  1520.000000  1536.000000   \n",
       "2017-07-18  1519.900024  4489412  1551.750000  1537.000000  1559.599976   \n",
       "2017-07-19  1532.949951  2695041  1519.900024  1546.800049  1551.800049   \n",
       "2017-07-20  1528.900024  3114686  1532.949951  1512.599976  1538.000000   \n",
       "\n",
       "               prev_low  \n",
       "2017-07-14  1515.550049  \n",
       "2017-07-17  1515.550049  \n",
       "2017-07-18  1537.000000  \n",
       "2017-07-19  1511.000000  \n",
       "2017-07-20  1512.599976  "
      ]
     },
     "execution_count": 21,
     "metadata": {},
     "output_type": "execute_result"
    }
   ],
   "source": [
    "somestock.head()"
   ]
  },
  {
   "cell_type": "code",
   "execution_count": 32,
   "metadata": {},
   "outputs": [],
   "source": [
    "\n",
    "features,labels = somestock[['prev_open','prev_low','prev_high','prev_close']],somestock['Close']\n",
    "train_features,test_features,train_labels,test_labels = train_test_split(features,labels)\n"
   ]
  },
  {
   "cell_type": "code",
   "execution_count": 34,
   "metadata": {},
   "outputs": [
    {
     "data": {
      "text/plain": [
       "0.7218655678162903"
      ]
     },
     "execution_count": 34,
     "metadata": {},
     "output_type": "execute_result"
    }
   ],
   "source": [
    "clf.fit(train_features,train_labels)\n",
    "clf.score(test_features,test_labels)"
   ]
  },
  {
   "cell_type": "code",
   "execution_count": 35,
   "metadata": {},
   "outputs": [],
   "source": [
    "from sklearn.ensemble import RandomForestRegressor\n",
    "clf = RandomForestRegressor(n_estimators=1000)"
   ]
  },
  {
   "cell_type": "code",
   "execution_count": 36,
   "metadata": {},
   "outputs": [
    {
     "data": {
      "text/plain": [
       "0.63354003713834239"
      ]
     },
     "execution_count": 36,
     "metadata": {},
     "output_type": "execute_result"
    }
   ],
   "source": [
    "clf.fit(train_features,train_labels)\n",
    "clf.score(test_features,test_labels)"
   ]
  },
  {
   "cell_type": "code",
   "execution_count": 37,
   "metadata": {},
   "outputs": [],
   "source": [
    "from sklearn.linear_model import LinearRegression\n",
    "clf = LinearRegression()"
   ]
  },
  {
   "cell_type": "code",
   "execution_count": 38,
   "metadata": {},
   "outputs": [
    {
     "data": {
      "text/plain": [
       "0.73783661441246895"
      ]
     },
     "execution_count": 38,
     "metadata": {},
     "output_type": "execute_result"
    }
   ],
   "source": [
    "clf.fit(train_features,train_labels)\n",
    "clf.score(test_features,test_labels)"
   ]
  },
  {
   "cell_type": "code",
   "execution_count": 48,
   "metadata": {},
   "outputs": [],
   "source": [
    "a = ['BATS Europe','Some other','GER']\n",
    "num_a = [0,1,2] # dict_a = {0:'BATS Europe', 1:'Some other',2:'GER'} ---> Label Encoding\n",
    "\n",
    "EXCH\n",
    "0\n",
    "1\n",
    "0"
   ]
  },
  {
   "cell_type": "code",
   "execution_count": 49,
   "metadata": {},
   "outputs": [
    {
     "data": {
      "text/plain": [
       "LabelEncoder()"
      ]
     },
     "execution_count": 49,
     "metadata": {},
     "output_type": "execute_result"
    }
   ],
   "source": [
    "from sklearn.preprocessing import LabelEncoder\n",
    "cls = LabelEncoder()\n",
    "cls.fit(somestock.exch.unique())"
   ]
  },
  {
   "cell_type": "code",
   "execution_count": 53,
   "metadata": {},
   "outputs": [],
   "source": [
    "somestock['exch']= cls.transform(somestock.exch)"
   ]
  },
  {
   "cell_type": "code",
   "execution_count": 63,
   "metadata": {},
   "outputs": [],
   "source": [
    "a = ['US','IND','GER']"
   ]
  },
  {
   "cell_type": "code",
   "execution_count": 68,
   "metadata": {},
   "outputs": [],
   "source": [
    "from sklearn.preprocessing import LabelBinarizer\n",
    "clf = LabelBinarizer()\n",
    "\n"
   ]
  },
  {
   "cell_type": "code",
   "execution_count": 73,
   "metadata": {},
   "outputs": [
    {
     "data": {
      "text/plain": [
       "LabelBinarizer(neg_label=0, pos_label=1, sparse_output=False)"
      ]
     },
     "execution_count": 73,
     "metadata": {},
     "output_type": "execute_result"
    }
   ],
   "source": [
    "clf.fit(somestock.paper.unique())"
   ]
  },
  {
   "cell_type": "code",
   "execution_count": 74,
   "metadata": {},
   "outputs": [
    {
     "data": {
      "text/plain": [
       "array(['E-SIED'], \n",
       "      dtype='|S6')"
      ]
     },
     "execution_count": 74,
     "metadata": {},
     "output_type": "execute_result"
    }
   ],
   "source": [
    "clf.classes_"
   ]
  },
  {
   "cell_type": "code",
   "execution_count": 75,
   "metadata": {},
   "outputs": [],
   "source": [
    "new_cols  =  pd.DataFrame(clf.transform(somestock.paper))"
   ]
  },
  {
   "cell_type": "code",
   "execution_count": 78,
   "metadata": {},
   "outputs": [],
   "source": [
    "new_cols.columns=['US']"
   ]
  },
  {
   "cell_type": "code",
   "execution_count": 80,
   "metadata": {},
   "outputs": [
    {
     "data": {
      "text/html": [
       "<div>\n",
       "<table border=\"1\" class=\"dataframe\">\n",
       "  <thead>\n",
       "    <tr style=\"text-align: right;\">\n",
       "      <th></th>\n",
       "      <th>US</th>\n",
       "    </tr>\n",
       "  </thead>\n",
       "  <tbody>\n",
       "    <tr>\n",
       "      <th>0</th>\n",
       "      <td>0</td>\n",
       "    </tr>\n",
       "    <tr>\n",
       "      <th>1</th>\n",
       "      <td>0</td>\n",
       "    </tr>\n",
       "    <tr>\n",
       "      <th>2</th>\n",
       "      <td>0</td>\n",
       "    </tr>\n",
       "    <tr>\n",
       "      <th>3</th>\n",
       "      <td>0</td>\n",
       "    </tr>\n",
       "    <tr>\n",
       "      <th>4</th>\n",
       "      <td>0</td>\n",
       "    </tr>\n",
       "  </tbody>\n",
       "</table>\n",
       "</div>"
      ],
      "text/plain": [
       "   US\n",
       "0   0\n",
       "1   0\n",
       "2   0\n",
       "3   0\n",
       "4   0"
      ]
     },
     "execution_count": 80,
     "metadata": {},
     "output_type": "execute_result"
    }
   ],
   "source": [
    "new_cols.head()"
   ]
  }
 ],
 "metadata": {
  "kernelspec": {
   "display_name": "Python 2",
   "language": "python",
   "name": "python2"
  },
  "language_info": {
   "codemirror_mode": {
    "name": "ipython",
    "version": 2
   },
   "file_extension": ".py",
   "mimetype": "text/x-python",
   "name": "python",
   "nbconvert_exporter": "python",
   "pygments_lexer": "ipython2",
   "version": "2.7.11"
  }
 },
 "nbformat": 4,
 "nbformat_minor": 2
}
