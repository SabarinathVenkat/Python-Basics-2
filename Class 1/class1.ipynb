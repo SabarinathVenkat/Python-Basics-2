{
 "cells": [
  {
   "cell_type": "markdown",
   "metadata": {},
   "source": [
    "# Why Python?"
   ]
  },
  {
   "cell_type": "markdown",
   "metadata": {},
   "source": [
    "### Coding in Python is quick and readable\n",
    "<br>\n",
    "<br>\n",
    "\n",
    "#### What does this snippet do?\n",
    "```java\n",
    "import java.io.File;\n",
    "import java.io.FileReader;\n",
    "import java.io.IOException;\n",
    "\n",
    "public String readFile(String filename)\n",
    "{\n",
    "    String content = null;\n",
    "    File file = new File(filename); //for ex foo.txt\n",
    "    FileReader reader = null;\n",
    "    try {\n",
    "        reader = new FileReader(file);\n",
    "        char[] chars = new char[(int) file.length()];\n",
    "        reader.read(chars);\n",
    "        content = new String(chars);\n",
    "        reader.close();\n",
    "    } catch (IOException e) {\n",
    "        e.printStackTrace();\n",
    "    } finally {\n",
    "        if(reader !=null){reader.close();}\n",
    "    }\n",
    "    return content;\n",
    "}\n",
    "```\n",
    "______\n",
    "\n",
    "#### Now what does this do?\n",
    "```python\n",
    "with open(filename,'r') as f:\n",
    "    content = f.read()\n",
    "```\n",
    "\n",
    "#### Simplest Swap program ever:\n",
    "```python\n",
    "a,b = b,a\n",
    "```"
   ]
  },
  {
   "cell_type": "markdown",
   "metadata": {},
   "source": [
    "## Python is more Diverse\n",
    "\n",
    "It is used in Data science, Web development, scientific programming, sys admins, cyber security, database development, Application development, Game development etc .. etc.."
   ]
  },
  {
   "cell_type": "code",
   "execution_count": 1,
   "metadata": {},
   "outputs": [
    {
     "ename": "TypeError",
     "evalue": "unsupported operand type(s) for +: 'int' and 'str'",
     "output_type": "error",
     "traceback": [
      "\u001b[1;31m\u001b[0m",
      "\u001b[1;31mTypeError\u001b[0mTraceback (most recent call last)",
      "\u001b[1;32m<ipython-input-1-af31498709f2>\u001b[0m in \u001b[0;36m<module>\u001b[1;34m()\u001b[0m\n\u001b[1;32m----> 1\u001b[1;33m \u001b[1;36m1\u001b[0m \u001b[1;33m+\u001b[0m \u001b[1;34m\"tr\"\u001b[0m\u001b[1;33m\u001b[0m\u001b[0m\n\u001b[0m",
      "\u001b[1;31mTypeError\u001b[0m: unsupported operand type(s) for +: 'int' and 'str'"
     ]
    }
   ],
   "source": [
    "1 + \"tr\""
   ]
  }
 ],
 "metadata": {
  "kernelspec": {
   "display_name": "Python 2",
   "language": "python",
   "name": "python2"
  },
  "language_info": {
   "codemirror_mode": {
    "name": "ipython",
    "version": 2
   },
   "file_extension": ".py",
   "mimetype": "text/x-python",
   "name": "python",
   "nbconvert_exporter": "python",
   "pygments_lexer": "ipython2",
   "version": "2.7.14"
  }
 },
 "nbformat": 4,
 "nbformat_minor": 2
}
